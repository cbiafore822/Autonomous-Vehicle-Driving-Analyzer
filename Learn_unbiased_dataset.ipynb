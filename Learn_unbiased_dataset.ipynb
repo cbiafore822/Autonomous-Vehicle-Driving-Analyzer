{
 "cells": [
  {
   "cell_type": "code",
   "execution_count": 34,
   "metadata": {},
   "outputs": [],
   "source": [
    "import numpy as np\n",
    "from tqdm import tqdm"
   ]
  },
  {
   "cell_type": "code",
   "execution_count": 35,
   "metadata": {},
   "outputs": [],
   "source": [
    "from keras.optimizers import Adam\n",
    "from keras.callbacks import TensorBoard, ModelCheckpoint, ReduceLROnPlateau, EarlyStopping\n",
    "from keras.models import load_model\n"
   ]
  },
  {
   "cell_type": "markdown",
   "metadata": {},
   "source": [
    "## Prepare driving data"
   ]
  },
  {
   "cell_type": "code",
   "execution_count": 36,
   "metadata": {},
   "outputs": [
    {
     "name": "stdout",
     "output_type": "stream",
     "text": [
      "total number of unbiased data points: 2000\n"
     ]
    }
   ],
   "source": [
    "import glob\n",
    "speed_file_name_ls = glob.glob('./TrainingData/All_in_one/truth_*.npy')\n",
    "print('total number of unbiased data points:',len(speed_file_name_ls))"
   ]
  },
  {
   "cell_type": "code",
   "execution_count": 37,
   "metadata": {},
   "outputs": [
    {
     "data": {
      "text/plain": [
       "'./TrainingData/All_in_one/truth_36070V15.npy'"
      ]
     },
     "execution_count": 37,
     "metadata": {},
     "output_type": "execute_result"
    }
   ],
   "source": [
    "speed_file_name_ls[0]"
   ]
  },
  {
   "cell_type": "code",
   "execution_count": 38,
   "metadata": {},
   "outputs": [],
   "source": [
    "# initial point\n",
    "speed_f = speed_file_name_ls[0]\n",
    "all_y5 = np.load(speed_f)\n",
    "data_index = speed_f.split('truth_')[1].split('V')[0]\n",
    "all_images = np.load('./TrainingData/All_in_one/image_'+data_index+'.npy')\n",
    "all_rnn = np.load('./TrainingData/All_in_one/rnn_'+data_index+'.npy')"
   ]
  },
  {
   "cell_type": "code",
   "execution_count": 39,
   "metadata": {},
   "outputs": [
    {
     "name": "stderr",
     "output_type": "stream",
     "text": [
      "100%|██████████| 999/999 [03:20<00:00,  4.98it/s]\n"
     ]
    }
   ],
   "source": [
    "for j in tqdm(range(1,1000)):\n",
    "    speef_f = speed_file_name_ls[j]\n",
    "    truth_speed = np.load(speed_f)\n",
    "    data_index = speed_f.split('truth_')[1].split('V')[0]\n",
    "    image = np.load('./TrainingData/All_in_one/image_'+data_index+'.npy')\n",
    "    rnn = np.load('./TrainingData/All_in_one/rnn_'+data_index+'.npy')\n",
    "    all_images = np.vstack((all_images, image))\n",
    "    all_rnn = np.vstack((all_rnn, rnn))\n",
    "    all_y5 = np.vstack((all_y5, truth_speed))"
   ]
  },
  {
   "cell_type": "code",
   "execution_count": 40,
   "metadata": {},
   "outputs": [],
   "source": [
    "num_data = all_images.shape[0]\n"
   ]
  },
  {
   "cell_type": "code",
   "execution_count": 41,
   "metadata": {},
   "outputs": [],
   "source": [
    "all_desire = np.zeros((num_data,8))\n",
    "\n",
    "all_y0 = np.zeros((num_data,385))\n",
    "all_y1 = np.zeros((num_data,386))\n",
    "all_y2 = np.zeros((num_data,386))\n",
    "all_y3 = np.zeros((num_data,58))\n",
    "all_y4 = np.zeros((num_data,200))\n",
    "all_y6 = np.zeros((num_data,200))\n",
    "all_y7 = np.zeros((num_data,4))\n",
    "all_y8 = np.zeros((num_data,32))\n",
    "all_y9 = np.zeros((num_data,12))\n",
    "all_y10 = np.zeros((num_data,512))"
   ]
  },
  {
   "cell_type": "code",
   "execution_count": null,
   "metadata": {},
   "outputs": [],
   "source": []
  },
  {
   "cell_type": "code",
   "execution_count": 42,
   "metadata": {},
   "outputs": [],
   "source": [
    "x_all = [all_images,all_desire,all_rnn]\n",
    "y_all = [all_y0,all_y1,all_y2,all_y3,all_y4,all_y5,all_y6,all_y7,all_y8,all_y9,all_y10]"
   ]
  },
  {
   "cell_type": "markdown",
   "metadata": {},
   "source": [
    "### Training"
   ]
  },
  {
   "cell_type": "code",
   "execution_count": 43,
   "metadata": {},
   "outputs": [
    {
     "name": "stdout",
     "output_type": "stream",
     "text": [
      "WARNING:tensorflow:No training configuration found in the save file, so the model was *not* compiled. Compile it manually.\n"
     ]
    }
   ],
   "source": [
    "model = load_model('pretrain_model.keras')"
   ]
  },
  {
   "cell_type": "code",
   "execution_count": 44,
   "metadata": {},
   "outputs": [
    {
     "name": "stdout",
     "output_type": "stream",
     "text": [
      "layer name dense_1_long_v, trainable: True\n",
      "layer name dense_2_long_v, trainable: True\n",
      "layer name dense_3_long_v, trainable: True\n"
     ]
    }
   ],
   "source": [
    "for i in range(len(model.layers)):\n",
    "    if model.layers[i].name =='dense_1_long_v' or model.layers[i].name =='dense_2_long_v' or \\\n",
    "    model.layers[i].name =='dense_3_long_v':\n",
    "        model.layers[i].trainable = True\n",
    "    else:\n",
    "        model.layers[i].trainable = False\n",
    "\n",
    "for i in range(len(model.layers)):\n",
    "    if model.layers[i].trainable == True:\n",
    "        print('layer name {}, trainable: {}'.format(model.layers[i].name, model.layers[i].trainable))"
   ]
  },
  {
   "cell_type": "code",
   "execution_count": 45,
   "metadata": {},
   "outputs": [],
   "source": [
    "# define a customized loss function to compare the predicted v and real v \n",
    "def speed_loss(y_true, y_pred):\n",
    "    print('see y_true: ',y_true)\n",
    "    batch_size = y_pred.shape[0]\n",
    "    loss=0\n",
    "    for i in range(batch_size):\n",
    "        pred_v = y_pred[i,:]\n",
    "        true_v = y_true[i,:]\n",
    "        for j in range(10):\n",
    "            loss+=abs(pred_v[i*10]-true_v[i*10])\n",
    "    return loss\n",
    "\n",
    "def zero_loss(y_true,y_pred):\n",
    "    return 0.0\n",
    "\n",
    "model.compile(optimizer=Adam(lr=1e-3),loss={'path': zero_loss, 'left_lane': zero_loss, \\\n",
    "                                            'right_lane': zero_loss, 'lead': zero_loss, \\\n",
    "                                           'long_x':zero_loss, 'long_v':speed_loss, \\\n",
    "                                           'long_a':zero_loss, 'meta':zero_loss,\\\n",
    "                                           'snpe_pleaser2':zero_loss, 'pose':zero_loss,\\\n",
    "                                           'add_3':zero_loss})"
   ]
  },
  {
   "cell_type": "code",
   "execution_count": 46,
   "metadata": {},
   "outputs": [
    {
     "name": "stdout",
     "output_type": "stream",
     "text": [
      "WARNING:tensorflow:`period` argument is deprecated. Please use `save_freq` to specify the frequency in number of batches seen.\n",
      "Epoch 1/100\n",
      "see y_true:  Tensor(\"IteratorGetNext:8\", shape=(4, 200), dtype=float32)\n",
      "see y_true:  Tensor(\"IteratorGetNext:8\", shape=(4, 200), dtype=float32)\n",
      "  2/200 [..............................] - ETA: 1:09 - loss: 9.4706 - path_loss: 0.0000e+00 - left_lane_loss: 0.0000e+00 - right_lane_loss: 0.0000e+00 - lead_loss: 0.0000e+00 - long_x_loss: 0.0000e+00 - long_v_loss: 9.4706 - long_a_loss: 0.0000e+00 - meta_loss: 0.0000e+00 - snpe_pleaser2_loss: 0.0000e+00 - pose_loss: 0.0000e+00 - add_3_loss: 0.0000e+00WARNING:tensorflow:Callbacks method `on_train_batch_end` is slow compared to the batch time (batch time: 0.1725s vs `on_train_batch_end` time: 0.5153s). Check your callbacks.\n",
      "200/200 [==============================] - ETA: 0s - loss: 0.9948 - path_loss: 0.0000e+00 - left_lane_loss: 0.0000e+00 - right_lane_loss: 0.0000e+00 - lead_loss: 0.0000e+00 - long_x_loss: 0.0000e+00 - long_v_loss: 0.9948 - long_a_loss: 0.0000e+00 - meta_loss: 0.0000e+00 - snpe_pleaser2_loss: 0.0000e+00 - pose_loss: 0.0000e+00 - add_3_loss: 0.0000e+00see y_true:  Tensor(\"IteratorGetNext:8\", shape=(4, 200), dtype=float32)\n",
      "200/200 [==============================] - 18s 88ms/step - loss: 0.9948 - path_loss: 0.0000e+00 - left_lane_loss: 0.0000e+00 - right_lane_loss: 0.0000e+00 - lead_loss: 0.0000e+00 - long_x_loss: 0.0000e+00 - long_v_loss: 0.9948 - long_a_loss: 0.0000e+00 - meta_loss: 0.0000e+00 - snpe_pleaser2_loss: 0.0000e+00 - pose_loss: 0.0000e+00 - add_3_loss: 0.0000e+00 - val_loss: 0.4968 - val_path_loss: 0.0000e+00 - val_left_lane_loss: 0.0000e+00 - val_right_lane_loss: 0.0000e+00 - val_lead_loss: 0.0000e+00 - val_long_x_loss: 0.0000e+00 - val_long_v_loss: 0.4968 - val_long_a_loss: 0.0000e+00 - val_meta_loss: 0.0000e+00 - val_snpe_pleaser2_loss: 0.0000e+00 - val_pose_loss: 0.0000e+00 - val_add_3_loss: 0.0000e+00\n",
      "Epoch 2/100\n",
      "200/200 [==============================] - 16s 82ms/step - loss: 1.0294 - path_loss: 0.0000e+00 - left_lane_loss: 0.0000e+00 - right_lane_loss: 0.0000e+00 - lead_loss: 0.0000e+00 - long_x_loss: 0.0000e+00 - long_v_loss: 1.0294 - long_a_loss: 0.0000e+00 - meta_loss: 0.0000e+00 - snpe_pleaser2_loss: 0.0000e+00 - pose_loss: 0.0000e+00 - add_3_loss: 0.0000e+00 - val_loss: 0.1973 - val_path_loss: 0.0000e+00 - val_left_lane_loss: 0.0000e+00 - val_right_lane_loss: 0.0000e+00 - val_lead_loss: 0.0000e+00 - val_long_x_loss: 0.0000e+00 - val_long_v_loss: 0.1973 - val_long_a_loss: 0.0000e+00 - val_meta_loss: 0.0000e+00 - val_snpe_pleaser2_loss: 0.0000e+00 - val_pose_loss: 0.0000e+00 - val_add_3_loss: 0.0000e+00\n",
      "Epoch 3/100\n",
      "200/200 [==============================] - 17s 85ms/step - loss: 0.4826 - path_loss: 0.0000e+00 - left_lane_loss: 0.0000e+00 - right_lane_loss: 0.0000e+00 - lead_loss: 0.0000e+00 - long_x_loss: 0.0000e+00 - long_v_loss: 0.4826 - long_a_loss: 0.0000e+00 - meta_loss: 0.0000e+00 - snpe_pleaser2_loss: 0.0000e+00 - pose_loss: 0.0000e+00 - add_3_loss: 0.0000e+00 - val_loss: 0.4326 - val_path_loss: 0.0000e+00 - val_left_lane_loss: 0.0000e+00 - val_right_lane_loss: 0.0000e+00 - val_lead_loss: 0.0000e+00 - val_long_x_loss: 0.0000e+00 - val_long_v_loss: 0.4326 - val_long_a_loss: 0.0000e+00 - val_meta_loss: 0.0000e+00 - val_snpe_pleaser2_loss: 0.0000e+00 - val_pose_loss: 0.0000e+00 - val_add_3_loss: 0.0000e+00\n",
      "Epoch 4/100\n",
      "200/200 [==============================] - 16s 81ms/step - loss: 0.3301 - path_loss: 0.0000e+00 - left_lane_loss: 0.0000e+00 - right_lane_loss: 0.0000e+00 - lead_loss: 0.0000e+00 - long_x_loss: 0.0000e+00 - long_v_loss: 0.3301 - long_a_loss: 0.0000e+00 - meta_loss: 0.0000e+00 - snpe_pleaser2_loss: 0.0000e+00 - pose_loss: 0.0000e+00 - add_3_loss: 0.0000e+00 - val_loss: 0.1009 - val_path_loss: 0.0000e+00 - val_left_lane_loss: 0.0000e+00 - val_right_lane_loss: 0.0000e+00 - val_lead_loss: 0.0000e+00 - val_long_x_loss: 0.0000e+00 - val_long_v_loss: 0.1009 - val_long_a_loss: 0.0000e+00 - val_meta_loss: 0.0000e+00 - val_snpe_pleaser2_loss: 0.0000e+00 - val_pose_loss: 0.0000e+00 - val_add_3_loss: 0.0000e+00\n",
      "Epoch 5/100\n",
      "200/200 [==============================] - 16s 81ms/step - loss: 0.4840 - path_loss: 0.0000e+00 - left_lane_loss: 0.0000e+00 - right_lane_loss: 0.0000e+00 - lead_loss: 0.0000e+00 - long_x_loss: 0.0000e+00 - long_v_loss: 0.4840 - long_a_loss: 0.0000e+00 - meta_loss: 0.0000e+00 - snpe_pleaser2_loss: 0.0000e+00 - pose_loss: 0.0000e+00 - add_3_loss: 0.0000e+00 - val_loss: 0.7211 - val_path_loss: 0.0000e+00 - val_left_lane_loss: 0.0000e+00 - val_right_lane_loss: 0.0000e+00 - val_lead_loss: 0.0000e+00 - val_long_x_loss: 0.0000e+00 - val_long_v_loss: 0.7211 - val_long_a_loss: 0.0000e+00 - val_meta_loss: 0.0000e+00 - val_snpe_pleaser2_loss: 0.0000e+00 - val_pose_loss: 0.0000e+00 - val_add_3_loss: 0.0000e+00\n",
      "Epoch 6/100\n",
      "200/200 [==============================] - 17s 84ms/step - loss: 0.4282 - path_loss: 0.0000e+00 - left_lane_loss: 0.0000e+00 - right_lane_loss: 0.0000e+00 - lead_loss: 0.0000e+00 - long_x_loss: 0.0000e+00 - long_v_loss: 0.4282 - long_a_loss: 0.0000e+00 - meta_loss: 0.0000e+00 - snpe_pleaser2_loss: 0.0000e+00 - pose_loss: 0.0000e+00 - add_3_loss: 0.0000e+00 - val_loss: 0.1159 - val_path_loss: 0.0000e+00 - val_left_lane_loss: 0.0000e+00 - val_right_lane_loss: 0.0000e+00 - val_lead_loss: 0.0000e+00 - val_long_x_loss: 0.0000e+00 - val_long_v_loss: 0.1159 - val_long_a_loss: 0.0000e+00 - val_meta_loss: 0.0000e+00 - val_snpe_pleaser2_loss: 0.0000e+00 - val_pose_loss: 0.0000e+00 - val_add_3_loss: 0.0000e+00\n",
      "Epoch 7/100\n",
      "200/200 [==============================] - 16s 82ms/step - loss: 0.4509 - path_loss: 0.0000e+00 - left_lane_loss: 0.0000e+00 - right_lane_loss: 0.0000e+00 - lead_loss: 0.0000e+00 - long_x_loss: 0.0000e+00 - long_v_loss: 0.4509 - long_a_loss: 0.0000e+00 - meta_loss: 0.0000e+00 - snpe_pleaser2_loss: 0.0000e+00 - pose_loss: 0.0000e+00 - add_3_loss: 0.0000e+00 - val_loss: 0.3677 - val_path_loss: 0.0000e+00 - val_left_lane_loss: 0.0000e+00 - val_right_lane_loss: 0.0000e+00 - val_lead_loss: 0.0000e+00 - val_long_x_loss: 0.0000e+00 - val_long_v_loss: 0.3677 - val_long_a_loss: 0.0000e+00 - val_meta_loss: 0.0000e+00 - val_snpe_pleaser2_loss: 0.0000e+00 - val_pose_loss: 0.0000e+00 - val_add_3_loss: 0.0000e+00\n",
      "Epoch 8/100\n",
      "200/200 [==============================] - 17s 84ms/step - loss: 0.5876 - path_loss: 0.0000e+00 - left_lane_loss: 0.0000e+00 - right_lane_loss: 0.0000e+00 - lead_loss: 0.0000e+00 - long_x_loss: 0.0000e+00 - long_v_loss: 0.5876 - long_a_loss: 0.0000e+00 - meta_loss: 0.0000e+00 - snpe_pleaser2_loss: 0.0000e+00 - pose_loss: 0.0000e+00 - add_3_loss: 0.0000e+00 - val_loss: 0.6491 - val_path_loss: 0.0000e+00 - val_left_lane_loss: 0.0000e+00 - val_right_lane_loss: 0.0000e+00 - val_lead_loss: 0.0000e+00 - val_long_x_loss: 0.0000e+00 - val_long_v_loss: 0.6491 - val_long_a_loss: 0.0000e+00 - val_meta_loss: 0.0000e+00 - val_snpe_pleaser2_loss: 0.0000e+00 - val_pose_loss: 0.0000e+00 - val_add_3_loss: 0.0000e+00\n",
      "Epoch 9/100\n",
      "200/200 [==============================] - 17s 84ms/step - loss: 0.3884 - path_loss: 0.0000e+00 - left_lane_loss: 0.0000e+00 - right_lane_loss: 0.0000e+00 - lead_loss: 0.0000e+00 - long_x_loss: 0.0000e+00 - long_v_loss: 0.3884 - long_a_loss: 0.0000e+00 - meta_loss: 0.0000e+00 - snpe_pleaser2_loss: 0.0000e+00 - pose_loss: 0.0000e+00 - add_3_loss: 0.0000e+00 - val_loss: 0.4693 - val_path_loss: 0.0000e+00 - val_left_lane_loss: 0.0000e+00 - val_right_lane_loss: 0.0000e+00 - val_lead_loss: 0.0000e+00 - val_long_x_loss: 0.0000e+00 - val_long_v_loss: 0.4693 - val_long_a_loss: 0.0000e+00 - val_meta_loss: 0.0000e+00 - val_snpe_pleaser2_loss: 0.0000e+00 - val_pose_loss: 0.0000e+00 - val_add_3_loss: 0.0000e+00\n",
      "Epoch 10/100\n",
      "200/200 [==============================] - 16s 82ms/step - loss: 0.3970 - path_loss: 0.0000e+00 - left_lane_loss: 0.0000e+00 - right_lane_loss: 0.0000e+00 - lead_loss: 0.0000e+00 - long_x_loss: 0.0000e+00 - long_v_loss: 0.3970 - long_a_loss: 0.0000e+00 - meta_loss: 0.0000e+00 - snpe_pleaser2_loss: 0.0000e+00 - pose_loss: 0.0000e+00 - add_3_loss: 0.0000e+00 - val_loss: 0.1497 - val_path_loss: 0.0000e+00 - val_left_lane_loss: 0.0000e+00 - val_right_lane_loss: 0.0000e+00 - val_lead_loss: 0.0000e+00 - val_long_x_loss: 0.0000e+00 - val_long_v_loss: 0.1497 - val_long_a_loss: 0.0000e+00 - val_meta_loss: 0.0000e+00 - val_snpe_pleaser2_loss: 0.0000e+00 - val_pose_loss: 0.0000e+00 - val_add_3_loss: 0.0000e+00\n"
     ]
    },
    {
     "name": "stdout",
     "output_type": "stream",
     "text": [
      "Epoch 11/100\n",
      "200/200 [==============================] - 16s 81ms/step - loss: 0.3592 - path_loss: 0.0000e+00 - left_lane_loss: 0.0000e+00 - right_lane_loss: 0.0000e+00 - lead_loss: 0.0000e+00 - long_x_loss: 0.0000e+00 - long_v_loss: 0.3592 - long_a_loss: 0.0000e+00 - meta_loss: 0.0000e+00 - snpe_pleaser2_loss: 0.0000e+00 - pose_loss: 0.0000e+00 - add_3_loss: 0.0000e+00 - val_loss: 0.3821 - val_path_loss: 0.0000e+00 - val_left_lane_loss: 0.0000e+00 - val_right_lane_loss: 0.0000e+00 - val_lead_loss: 0.0000e+00 - val_long_x_loss: 0.0000e+00 - val_long_v_loss: 0.3821 - val_long_a_loss: 0.0000e+00 - val_meta_loss: 0.0000e+00 - val_snpe_pleaser2_loss: 0.0000e+00 - val_pose_loss: 0.0000e+00 - val_add_3_loss: 0.0000e+00\n",
      "Epoch 12/100\n",
      "200/200 [==============================] - 16s 82ms/step - loss: 0.3427 - path_loss: 0.0000e+00 - left_lane_loss: 0.0000e+00 - right_lane_loss: 0.0000e+00 - lead_loss: 0.0000e+00 - long_x_loss: 0.0000e+00 - long_v_loss: 0.3427 - long_a_loss: 0.0000e+00 - meta_loss: 0.0000e+00 - snpe_pleaser2_loss: 0.0000e+00 - pose_loss: 0.0000e+00 - add_3_loss: 0.0000e+00 - val_loss: 0.3845 - val_path_loss: 0.0000e+00 - val_left_lane_loss: 0.0000e+00 - val_right_lane_loss: 0.0000e+00 - val_lead_loss: 0.0000e+00 - val_long_x_loss: 0.0000e+00 - val_long_v_loss: 0.3845 - val_long_a_loss: 0.0000e+00 - val_meta_loss: 0.0000e+00 - val_snpe_pleaser2_loss: 0.0000e+00 - val_pose_loss: 0.0000e+00 - val_add_3_loss: 0.0000e+00\n",
      "Epoch 13/100\n",
      "200/200 [==============================] - 17s 83ms/step - loss: 0.3406 - path_loss: 0.0000e+00 - left_lane_loss: 0.0000e+00 - right_lane_loss: 0.0000e+00 - lead_loss: 0.0000e+00 - long_x_loss: 0.0000e+00 - long_v_loss: 0.3406 - long_a_loss: 0.0000e+00 - meta_loss: 0.0000e+00 - snpe_pleaser2_loss: 0.0000e+00 - pose_loss: 0.0000e+00 - add_3_loss: 0.0000e+00 - val_loss: 0.2014 - val_path_loss: 0.0000e+00 - val_left_lane_loss: 0.0000e+00 - val_right_lane_loss: 0.0000e+00 - val_lead_loss: 0.0000e+00 - val_long_x_loss: 0.0000e+00 - val_long_v_loss: 0.2014 - val_long_a_loss: 0.0000e+00 - val_meta_loss: 0.0000e+00 - val_snpe_pleaser2_loss: 0.0000e+00 - val_pose_loss: 0.0000e+00 - val_add_3_loss: 0.0000e+00\n",
      "Epoch 14/100\n",
      "200/200 [==============================] - 16s 82ms/step - loss: 0.3442 - path_loss: 0.0000e+00 - left_lane_loss: 0.0000e+00 - right_lane_loss: 0.0000e+00 - lead_loss: 0.0000e+00 - long_x_loss: 0.0000e+00 - long_v_loss: 0.3442 - long_a_loss: 0.0000e+00 - meta_loss: 0.0000e+00 - snpe_pleaser2_loss: 0.0000e+00 - pose_loss: 0.0000e+00 - add_3_loss: 0.0000e+00 - val_loss: 0.8774 - val_path_loss: 0.0000e+00 - val_left_lane_loss: 0.0000e+00 - val_right_lane_loss: 0.0000e+00 - val_lead_loss: 0.0000e+00 - val_long_x_loss: 0.0000e+00 - val_long_v_loss: 0.8774 - val_long_a_loss: 0.0000e+00 - val_meta_loss: 0.0000e+00 - val_snpe_pleaser2_loss: 0.0000e+00 - val_pose_loss: 0.0000e+00 - val_add_3_loss: 0.0000e+00\n",
      "Epoch 15/100\n",
      "200/200 [==============================] - 17s 86ms/step - loss: 0.3849 - path_loss: 0.0000e+00 - left_lane_loss: 0.0000e+00 - right_lane_loss: 0.0000e+00 - lead_loss: 0.0000e+00 - long_x_loss: 0.0000e+00 - long_v_loss: 0.3849 - long_a_loss: 0.0000e+00 - meta_loss: 0.0000e+00 - snpe_pleaser2_loss: 0.0000e+00 - pose_loss: 0.0000e+00 - add_3_loss: 0.0000e+00 - val_loss: 1.0205 - val_path_loss: 0.0000e+00 - val_left_lane_loss: 0.0000e+00 - val_right_lane_loss: 0.0000e+00 - val_lead_loss: 0.0000e+00 - val_long_x_loss: 0.0000e+00 - val_long_v_loss: 1.0205 - val_long_a_loss: 0.0000e+00 - val_meta_loss: 0.0000e+00 - val_snpe_pleaser2_loss: 0.0000e+00 - val_pose_loss: 0.0000e+00 - val_add_3_loss: 0.0000e+00\n",
      "Epoch 16/100\n",
      "200/200 [==============================] - 16s 81ms/step - loss: 0.4474 - path_loss: 0.0000e+00 - left_lane_loss: 0.0000e+00 - right_lane_loss: 0.0000e+00 - lead_loss: 0.0000e+00 - long_x_loss: 0.0000e+00 - long_v_loss: 0.4474 - long_a_loss: 0.0000e+00 - meta_loss: 0.0000e+00 - snpe_pleaser2_loss: 0.0000e+00 - pose_loss: 0.0000e+00 - add_3_loss: 0.0000e+00 - val_loss: 0.2923 - val_path_loss: 0.0000e+00 - val_left_lane_loss: 0.0000e+00 - val_right_lane_loss: 0.0000e+00 - val_lead_loss: 0.0000e+00 - val_long_x_loss: 0.0000e+00 - val_long_v_loss: 0.2923 - val_long_a_loss: 0.0000e+00 - val_meta_loss: 0.0000e+00 - val_snpe_pleaser2_loss: 0.0000e+00 - val_pose_loss: 0.0000e+00 - val_add_3_loss: 0.0000e+00\n",
      "Epoch 17/100\n",
      "200/200 [==============================] - 17s 86ms/step - loss: 0.4694 - path_loss: 0.0000e+00 - left_lane_loss: 0.0000e+00 - right_lane_loss: 0.0000e+00 - lead_loss: 0.0000e+00 - long_x_loss: 0.0000e+00 - long_v_loss: 0.4694 - long_a_loss: 0.0000e+00 - meta_loss: 0.0000e+00 - snpe_pleaser2_loss: 0.0000e+00 - pose_loss: 0.0000e+00 - add_3_loss: 0.0000e+00 - val_loss: 0.5928 - val_path_loss: 0.0000e+00 - val_left_lane_loss: 0.0000e+00 - val_right_lane_loss: 0.0000e+00 - val_lead_loss: 0.0000e+00 - val_long_x_loss: 0.0000e+00 - val_long_v_loss: 0.5928 - val_long_a_loss: 0.0000e+00 - val_meta_loss: 0.0000e+00 - val_snpe_pleaser2_loss: 0.0000e+00 - val_pose_loss: 0.0000e+00 - val_add_3_loss: 0.0000e+00\n",
      "Epoch 18/100\n",
      "200/200 [==============================] - 17s 84ms/step - loss: 0.3518 - path_loss: 0.0000e+00 - left_lane_loss: 0.0000e+00 - right_lane_loss: 0.0000e+00 - lead_loss: 0.0000e+00 - long_x_loss: 0.0000e+00 - long_v_loss: 0.3518 - long_a_loss: 0.0000e+00 - meta_loss: 0.0000e+00 - snpe_pleaser2_loss: 0.0000e+00 - pose_loss: 0.0000e+00 - add_3_loss: 0.0000e+00 - val_loss: 0.4922 - val_path_loss: 0.0000e+00 - val_left_lane_loss: 0.0000e+00 - val_right_lane_loss: 0.0000e+00 - val_lead_loss: 0.0000e+00 - val_long_x_loss: 0.0000e+00 - val_long_v_loss: 0.4922 - val_long_a_loss: 0.0000e+00 - val_meta_loss: 0.0000e+00 - val_snpe_pleaser2_loss: 0.0000e+00 - val_pose_loss: 0.0000e+00 - val_add_3_loss: 0.0000e+00\n",
      "Epoch 19/100\n",
      "200/200 [==============================] - 17s 84ms/step - loss: 0.5638 - path_loss: 0.0000e+00 - left_lane_loss: 0.0000e+00 - right_lane_loss: 0.0000e+00 - lead_loss: 0.0000e+00 - long_x_loss: 0.0000e+00 - long_v_loss: 0.5638 - long_a_loss: 0.0000e+00 - meta_loss: 0.0000e+00 - snpe_pleaser2_loss: 0.0000e+00 - pose_loss: 0.0000e+00 - add_3_loss: 0.0000e+00 - val_loss: 0.2536 - val_path_loss: 0.0000e+00 - val_left_lane_loss: 0.0000e+00 - val_right_lane_loss: 0.0000e+00 - val_lead_loss: 0.0000e+00 - val_long_x_loss: 0.0000e+00 - val_long_v_loss: 0.2536 - val_long_a_loss: 0.0000e+00 - val_meta_loss: 0.0000e+00 - val_snpe_pleaser2_loss: 0.0000e+00 - val_pose_loss: 0.0000e+00 - val_add_3_loss: 0.0000e+00\n",
      "Epoch 20/100\n",
      "200/200 [==============================] - 17s 83ms/step - loss: 0.5324 - path_loss: 0.0000e+00 - left_lane_loss: 0.0000e+00 - right_lane_loss: 0.0000e+00 - lead_loss: 0.0000e+00 - long_x_loss: 0.0000e+00 - long_v_loss: 0.5324 - long_a_loss: 0.0000e+00 - meta_loss: 0.0000e+00 - snpe_pleaser2_loss: 0.0000e+00 - pose_loss: 0.0000e+00 - add_3_loss: 0.0000e+00 - val_loss: 0.0601 - val_path_loss: 0.0000e+00 - val_left_lane_loss: 0.0000e+00 - val_right_lane_loss: 0.0000e+00 - val_lead_loss: 0.0000e+00 - val_long_x_loss: 0.0000e+00 - val_long_v_loss: 0.0601 - val_long_a_loss: 0.0000e+00 - val_meta_loss: 0.0000e+00 - val_snpe_pleaser2_loss: 0.0000e+00 - val_pose_loss: 0.0000e+00 - val_add_3_loss: 0.0000e+00\n",
      "Epoch 21/100\n",
      "200/200 [==============================] - 17s 86ms/step - loss: 0.2768 - path_loss: 0.0000e+00 - left_lane_loss: 0.0000e+00 - right_lane_loss: 0.0000e+00 - lead_loss: 0.0000e+00 - long_x_loss: 0.0000e+00 - long_v_loss: 0.2768 - long_a_loss: 0.0000e+00 - meta_loss: 0.0000e+00 - snpe_pleaser2_loss: 0.0000e+00 - pose_loss: 0.0000e+00 - add_3_loss: 0.0000e+00 - val_loss: 0.0704 - val_path_loss: 0.0000e+00 - val_left_lane_loss: 0.0000e+00 - val_right_lane_loss: 0.0000e+00 - val_lead_loss: 0.0000e+00 - val_long_x_loss: 0.0000e+00 - val_long_v_loss: 0.0704 - val_long_a_loss: 0.0000e+00 - val_meta_loss: 0.0000e+00 - val_snpe_pleaser2_loss: 0.0000e+00 - val_pose_loss: 0.0000e+00 - val_add_3_loss: 0.0000e+00\n",
      "Epoch 22/100\n"
     ]
    },
    {
     "name": "stdout",
     "output_type": "stream",
     "text": [
      "200/200 [==============================] - 18s 91ms/step - loss: 0.3589 - path_loss: 0.0000e+00 - left_lane_loss: 0.0000e+00 - right_lane_loss: 0.0000e+00 - lead_loss: 0.0000e+00 - long_x_loss: 0.0000e+00 - long_v_loss: 0.3589 - long_a_loss: 0.0000e+00 - meta_loss: 0.0000e+00 - snpe_pleaser2_loss: 0.0000e+00 - pose_loss: 0.0000e+00 - add_3_loss: 0.0000e+00 - val_loss: 0.1613 - val_path_loss: 0.0000e+00 - val_left_lane_loss: 0.0000e+00 - val_right_lane_loss: 0.0000e+00 - val_lead_loss: 0.0000e+00 - val_long_x_loss: 0.0000e+00 - val_long_v_loss: 0.1613 - val_long_a_loss: 0.0000e+00 - val_meta_loss: 0.0000e+00 - val_snpe_pleaser2_loss: 0.0000e+00 - val_pose_loss: 0.0000e+00 - val_add_3_loss: 0.0000e+00\n",
      "Epoch 23/100\n",
      "200/200 [==============================] - 17s 84ms/step - loss: 0.3933 - path_loss: 0.0000e+00 - left_lane_loss: 0.0000e+00 - right_lane_loss: 0.0000e+00 - lead_loss: 0.0000e+00 - long_x_loss: 0.0000e+00 - long_v_loss: 0.3933 - long_a_loss: 0.0000e+00 - meta_loss: 0.0000e+00 - snpe_pleaser2_loss: 0.0000e+00 - pose_loss: 0.0000e+00 - add_3_loss: 0.0000e+00 - val_loss: 0.3290 - val_path_loss: 0.0000e+00 - val_left_lane_loss: 0.0000e+00 - val_right_lane_loss: 0.0000e+00 - val_lead_loss: 0.0000e+00 - val_long_x_loss: 0.0000e+00 - val_long_v_loss: 0.3290 - val_long_a_loss: 0.0000e+00 - val_meta_loss: 0.0000e+00 - val_snpe_pleaser2_loss: 0.0000e+00 - val_pose_loss: 0.0000e+00 - val_add_3_loss: 0.0000e+00\n",
      "Epoch 24/100\n",
      "200/200 [==============================] - 16s 82ms/step - loss: 0.3124 - path_loss: 0.0000e+00 - left_lane_loss: 0.0000e+00 - right_lane_loss: 0.0000e+00 - lead_loss: 0.0000e+00 - long_x_loss: 0.0000e+00 - long_v_loss: 0.3124 - long_a_loss: 0.0000e+00 - meta_loss: 0.0000e+00 - snpe_pleaser2_loss: 0.0000e+00 - pose_loss: 0.0000e+00 - add_3_loss: 0.0000e+00 - val_loss: 0.3359 - val_path_loss: 0.0000e+00 - val_left_lane_loss: 0.0000e+00 - val_right_lane_loss: 0.0000e+00 - val_lead_loss: 0.0000e+00 - val_long_x_loss: 0.0000e+00 - val_long_v_loss: 0.3359 - val_long_a_loss: 0.0000e+00 - val_meta_loss: 0.0000e+00 - val_snpe_pleaser2_loss: 0.0000e+00 - val_pose_loss: 0.0000e+00 - val_add_3_loss: 0.0000e+00\n",
      "Epoch 25/100\n",
      "200/200 [==============================] - 17s 84ms/step - loss: 0.2546 - path_loss: 0.0000e+00 - left_lane_loss: 0.0000e+00 - right_lane_loss: 0.0000e+00 - lead_loss: 0.0000e+00 - long_x_loss: 0.0000e+00 - long_v_loss: 0.2546 - long_a_loss: 0.0000e+00 - meta_loss: 0.0000e+00 - snpe_pleaser2_loss: 0.0000e+00 - pose_loss: 0.0000e+00 - add_3_loss: 0.0000e+00 - val_loss: 0.1429 - val_path_loss: 0.0000e+00 - val_left_lane_loss: 0.0000e+00 - val_right_lane_loss: 0.0000e+00 - val_lead_loss: 0.0000e+00 - val_long_x_loss: 0.0000e+00 - val_long_v_loss: 0.1429 - val_long_a_loss: 0.0000e+00 - val_meta_loss: 0.0000e+00 - val_snpe_pleaser2_loss: 0.0000e+00 - val_pose_loss: 0.0000e+00 - val_add_3_loss: 0.0000e+00\n",
      "Epoch 26/100\n",
      "200/200 [==============================] - 17s 83ms/step - loss: 0.2426 - path_loss: 0.0000e+00 - left_lane_loss: 0.0000e+00 - right_lane_loss: 0.0000e+00 - lead_loss: 0.0000e+00 - long_x_loss: 0.0000e+00 - long_v_loss: 0.2426 - long_a_loss: 0.0000e+00 - meta_loss: 0.0000e+00 - snpe_pleaser2_loss: 0.0000e+00 - pose_loss: 0.0000e+00 - add_3_loss: 0.0000e+00 - val_loss: 0.0936 - val_path_loss: 0.0000e+00 - val_left_lane_loss: 0.0000e+00 - val_right_lane_loss: 0.0000e+00 - val_lead_loss: 0.0000e+00 - val_long_x_loss: 0.0000e+00 - val_long_v_loss: 0.0936 - val_long_a_loss: 0.0000e+00 - val_meta_loss: 0.0000e+00 - val_snpe_pleaser2_loss: 0.0000e+00 - val_pose_loss: 0.0000e+00 - val_add_3_loss: 0.0000e+00\n",
      "Epoch 27/100\n",
      "200/200 [==============================] - 17s 84ms/step - loss: 0.2410 - path_loss: 0.0000e+00 - left_lane_loss: 0.0000e+00 - right_lane_loss: 0.0000e+00 - lead_loss: 0.0000e+00 - long_x_loss: 0.0000e+00 - long_v_loss: 0.2410 - long_a_loss: 0.0000e+00 - meta_loss: 0.0000e+00 - snpe_pleaser2_loss: 0.0000e+00 - pose_loss: 0.0000e+00 - add_3_loss: 0.0000e+00 - val_loss: 0.1743 - val_path_loss: 0.0000e+00 - val_left_lane_loss: 0.0000e+00 - val_right_lane_loss: 0.0000e+00 - val_lead_loss: 0.0000e+00 - val_long_x_loss: 0.0000e+00 - val_long_v_loss: 0.1743 - val_long_a_loss: 0.0000e+00 - val_meta_loss: 0.0000e+00 - val_snpe_pleaser2_loss: 0.0000e+00 - val_pose_loss: 0.0000e+00 - val_add_3_loss: 0.0000e+00\n",
      "Epoch 28/100\n",
      "200/200 [==============================] - 17s 83ms/step - loss: 0.2095 - path_loss: 0.0000e+00 - left_lane_loss: 0.0000e+00 - right_lane_loss: 0.0000e+00 - lead_loss: 0.0000e+00 - long_x_loss: 0.0000e+00 - long_v_loss: 0.2095 - long_a_loss: 0.0000e+00 - meta_loss: 0.0000e+00 - snpe_pleaser2_loss: 0.0000e+00 - pose_loss: 0.0000e+00 - add_3_loss: 0.0000e+00 - val_loss: 0.0580 - val_path_loss: 0.0000e+00 - val_left_lane_loss: 0.0000e+00 - val_right_lane_loss: 0.0000e+00 - val_lead_loss: 0.0000e+00 - val_long_x_loss: 0.0000e+00 - val_long_v_loss: 0.0580 - val_long_a_loss: 0.0000e+00 - val_meta_loss: 0.0000e+00 - val_snpe_pleaser2_loss: 0.0000e+00 - val_pose_loss: 0.0000e+00 - val_add_3_loss: 0.0000e+00\n",
      "Epoch 29/100\n",
      "200/200 [==============================] - 18s 89ms/step - loss: 0.3331 - path_loss: 0.0000e+00 - left_lane_loss: 0.0000e+00 - right_lane_loss: 0.0000e+00 - lead_loss: 0.0000e+00 - long_x_loss: 0.0000e+00 - long_v_loss: 0.3331 - long_a_loss: 0.0000e+00 - meta_loss: 0.0000e+00 - snpe_pleaser2_loss: 0.0000e+00 - pose_loss: 0.0000e+00 - add_3_loss: 0.0000e+00 - val_loss: 0.4041 - val_path_loss: 0.0000e+00 - val_left_lane_loss: 0.0000e+00 - val_right_lane_loss: 0.0000e+00 - val_lead_loss: 0.0000e+00 - val_long_x_loss: 0.0000e+00 - val_long_v_loss: 0.4041 - val_long_a_loss: 0.0000e+00 - val_meta_loss: 0.0000e+00 - val_snpe_pleaser2_loss: 0.0000e+00 - val_pose_loss: 0.0000e+00 - val_add_3_loss: 0.0000e+00\n",
      "Epoch 30/100\n",
      "200/200 [==============================] - 17s 84ms/step - loss: 0.2063 - path_loss: 0.0000e+00 - left_lane_loss: 0.0000e+00 - right_lane_loss: 0.0000e+00 - lead_loss: 0.0000e+00 - long_x_loss: 0.0000e+00 - long_v_loss: 0.2063 - long_a_loss: 0.0000e+00 - meta_loss: 0.0000e+00 - snpe_pleaser2_loss: 0.0000e+00 - pose_loss: 0.0000e+00 - add_3_loss: 0.0000e+00 - val_loss: 0.3080 - val_path_loss: 0.0000e+00 - val_left_lane_loss: 0.0000e+00 - val_right_lane_loss: 0.0000e+00 - val_lead_loss: 0.0000e+00 - val_long_x_loss: 0.0000e+00 - val_long_v_loss: 0.3080 - val_long_a_loss: 0.0000e+00 - val_meta_loss: 0.0000e+00 - val_snpe_pleaser2_loss: 0.0000e+00 - val_pose_loss: 0.0000e+00 - val_add_3_loss: 0.0000e+00\n",
      "Epoch 31/100\n",
      "200/200 [==============================] - 17s 86ms/step - loss: 0.2323 - path_loss: 0.0000e+00 - left_lane_loss: 0.0000e+00 - right_lane_loss: 0.0000e+00 - lead_loss: 0.0000e+00 - long_x_loss: 0.0000e+00 - long_v_loss: 0.2323 - long_a_loss: 0.0000e+00 - meta_loss: 0.0000e+00 - snpe_pleaser2_loss: 0.0000e+00 - pose_loss: 0.0000e+00 - add_3_loss: 0.0000e+00 - val_loss: 0.3207 - val_path_loss: 0.0000e+00 - val_left_lane_loss: 0.0000e+00 - val_right_lane_loss: 0.0000e+00 - val_lead_loss: 0.0000e+00 - val_long_x_loss: 0.0000e+00 - val_long_v_loss: 0.3207 - val_long_a_loss: 0.0000e+00 - val_meta_loss: 0.0000e+00 - val_snpe_pleaser2_loss: 0.0000e+00 - val_pose_loss: 0.0000e+00 - val_add_3_loss: 0.0000e+00\n",
      "Epoch 32/100\n",
      "200/200 [==============================] - 18s 91ms/step - loss: 0.2203 - path_loss: 0.0000e+00 - left_lane_loss: 0.0000e+00 - right_lane_loss: 0.0000e+00 - lead_loss: 0.0000e+00 - long_x_loss: 0.0000e+00 - long_v_loss: 0.2203 - long_a_loss: 0.0000e+00 - meta_loss: 0.0000e+00 - snpe_pleaser2_loss: 0.0000e+00 - pose_loss: 0.0000e+00 - add_3_loss: 0.0000e+00 - val_loss: 0.3329 - val_path_loss: 0.0000e+00 - val_left_lane_loss: 0.0000e+00 - val_right_lane_loss: 0.0000e+00 - val_lead_loss: 0.0000e+00 - val_long_x_loss: 0.0000e+00 - val_long_v_loss: 0.3329 - val_long_a_loss: 0.0000e+00 - val_meta_loss: 0.0000e+00 - val_snpe_pleaser2_loss: 0.0000e+00 - val_pose_loss: 0.0000e+00 - val_add_3_loss: 0.0000e+00\n",
      "Epoch 33/100\n"
     ]
    },
    {
     "name": "stdout",
     "output_type": "stream",
     "text": [
      "200/200 [==============================] - 17s 87ms/step - loss: 0.2483 - path_loss: 0.0000e+00 - left_lane_loss: 0.0000e+00 - right_lane_loss: 0.0000e+00 - lead_loss: 0.0000e+00 - long_x_loss: 0.0000e+00 - long_v_loss: 0.2483 - long_a_loss: 0.0000e+00 - meta_loss: 0.0000e+00 - snpe_pleaser2_loss: 0.0000e+00 - pose_loss: 0.0000e+00 - add_3_loss: 0.0000e+00 - val_loss: 0.4102 - val_path_loss: 0.0000e+00 - val_left_lane_loss: 0.0000e+00 - val_right_lane_loss: 0.0000e+00 - val_lead_loss: 0.0000e+00 - val_long_x_loss: 0.0000e+00 - val_long_v_loss: 0.4102 - val_long_a_loss: 0.0000e+00 - val_meta_loss: 0.0000e+00 - val_snpe_pleaser2_loss: 0.0000e+00 - val_pose_loss: 0.0000e+00 - val_add_3_loss: 0.0000e+00\n",
      "Epoch 34/100\n",
      "200/200 [==============================] - 21s 106ms/step - loss: 0.3040 - path_loss: 0.0000e+00 - left_lane_loss: 0.0000e+00 - right_lane_loss: 0.0000e+00 - lead_loss: 0.0000e+00 - long_x_loss: 0.0000e+00 - long_v_loss: 0.3040 - long_a_loss: 0.0000e+00 - meta_loss: 0.0000e+00 - snpe_pleaser2_loss: 0.0000e+00 - pose_loss: 0.0000e+00 - add_3_loss: 0.0000e+00 - val_loss: 0.2986 - val_path_loss: 0.0000e+00 - val_left_lane_loss: 0.0000e+00 - val_right_lane_loss: 0.0000e+00 - val_lead_loss: 0.0000e+00 - val_long_x_loss: 0.0000e+00 - val_long_v_loss: 0.2986 - val_long_a_loss: 0.0000e+00 - val_meta_loss: 0.0000e+00 - val_snpe_pleaser2_loss: 0.0000e+00 - val_pose_loss: 0.0000e+00 - val_add_3_loss: 0.0000e+00\n",
      "Epoch 35/100\n",
      "200/200 [==============================] - 17s 83ms/step - loss: 0.2911 - path_loss: 0.0000e+00 - left_lane_loss: 0.0000e+00 - right_lane_loss: 0.0000e+00 - lead_loss: 0.0000e+00 - long_x_loss: 0.0000e+00 - long_v_loss: 0.2911 - long_a_loss: 0.0000e+00 - meta_loss: 0.0000e+00 - snpe_pleaser2_loss: 0.0000e+00 - pose_loss: 0.0000e+00 - add_3_loss: 0.0000e+00 - val_loss: 0.0473 - val_path_loss: 0.0000e+00 - val_left_lane_loss: 0.0000e+00 - val_right_lane_loss: 0.0000e+00 - val_lead_loss: 0.0000e+00 - val_long_x_loss: 0.0000e+00 - val_long_v_loss: 0.0473 - val_long_a_loss: 0.0000e+00 - val_meta_loss: 0.0000e+00 - val_snpe_pleaser2_loss: 0.0000e+00 - val_pose_loss: 0.0000e+00 - val_add_3_loss: 0.0000e+00\n",
      "Epoch 36/100\n",
      "200/200 [==============================] - 16s 82ms/step - loss: 0.3184 - path_loss: 0.0000e+00 - left_lane_loss: 0.0000e+00 - right_lane_loss: 0.0000e+00 - lead_loss: 0.0000e+00 - long_x_loss: 0.0000e+00 - long_v_loss: 0.3184 - long_a_loss: 0.0000e+00 - meta_loss: 0.0000e+00 - snpe_pleaser2_loss: 0.0000e+00 - pose_loss: 0.0000e+00 - add_3_loss: 0.0000e+00 - val_loss: 0.2198 - val_path_loss: 0.0000e+00 - val_left_lane_loss: 0.0000e+00 - val_right_lane_loss: 0.0000e+00 - val_lead_loss: 0.0000e+00 - val_long_x_loss: 0.0000e+00 - val_long_v_loss: 0.2198 - val_long_a_loss: 0.0000e+00 - val_meta_loss: 0.0000e+00 - val_snpe_pleaser2_loss: 0.0000e+00 - val_pose_loss: 0.0000e+00 - val_add_3_loss: 0.0000e+00\n",
      "Epoch 37/100\n",
      "200/200 [==============================] - 16s 81ms/step - loss: 0.2664 - path_loss: 0.0000e+00 - left_lane_loss: 0.0000e+00 - right_lane_loss: 0.0000e+00 - lead_loss: 0.0000e+00 - long_x_loss: 0.0000e+00 - long_v_loss: 0.2664 - long_a_loss: 0.0000e+00 - meta_loss: 0.0000e+00 - snpe_pleaser2_loss: 0.0000e+00 - pose_loss: 0.0000e+00 - add_3_loss: 0.0000e+00 - val_loss: 0.6761 - val_path_loss: 0.0000e+00 - val_left_lane_loss: 0.0000e+00 - val_right_lane_loss: 0.0000e+00 - val_lead_loss: 0.0000e+00 - val_long_x_loss: 0.0000e+00 - val_long_v_loss: 0.6761 - val_long_a_loss: 0.0000e+00 - val_meta_loss: 0.0000e+00 - val_snpe_pleaser2_loss: 0.0000e+00 - val_pose_loss: 0.0000e+00 - val_add_3_loss: 0.0000e+00\n",
      "Epoch 38/100\n",
      "200/200 [==============================] - 16s 81ms/step - loss: 0.4461 - path_loss: 0.0000e+00 - left_lane_loss: 0.0000e+00 - right_lane_loss: 0.0000e+00 - lead_loss: 0.0000e+00 - long_x_loss: 0.0000e+00 - long_v_loss: 0.4461 - long_a_loss: 0.0000e+00 - meta_loss: 0.0000e+00 - snpe_pleaser2_loss: 0.0000e+00 - pose_loss: 0.0000e+00 - add_3_loss: 0.0000e+00 - val_loss: 0.1664 - val_path_loss: 0.0000e+00 - val_left_lane_loss: 0.0000e+00 - val_right_lane_loss: 0.0000e+00 - val_lead_loss: 0.0000e+00 - val_long_x_loss: 0.0000e+00 - val_long_v_loss: 0.1664 - val_long_a_loss: 0.0000e+00 - val_meta_loss: 0.0000e+00 - val_snpe_pleaser2_loss: 0.0000e+00 - val_pose_loss: 0.0000e+00 - val_add_3_loss: 0.0000e+00\n",
      "Epoch 39/100\n",
      "200/200 [==============================] - 16s 81ms/step - loss: 0.2231 - path_loss: 0.0000e+00 - left_lane_loss: 0.0000e+00 - right_lane_loss: 0.0000e+00 - lead_loss: 0.0000e+00 - long_x_loss: 0.0000e+00 - long_v_loss: 0.2231 - long_a_loss: 0.0000e+00 - meta_loss: 0.0000e+00 - snpe_pleaser2_loss: 0.0000e+00 - pose_loss: 0.0000e+00 - add_3_loss: 0.0000e+00 - val_loss: 0.5814 - val_path_loss: 0.0000e+00 - val_left_lane_loss: 0.0000e+00 - val_right_lane_loss: 0.0000e+00 - val_lead_loss: 0.0000e+00 - val_long_x_loss: 0.0000e+00 - val_long_v_loss: 0.5814 - val_long_a_loss: 0.0000e+00 - val_meta_loss: 0.0000e+00 - val_snpe_pleaser2_loss: 0.0000e+00 - val_pose_loss: 0.0000e+00 - val_add_3_loss: 0.0000e+00\n",
      "Epoch 40/100\n",
      "200/200 [==============================] - 16s 81ms/step - loss: 0.1351 - path_loss: 0.0000e+00 - left_lane_loss: 0.0000e+00 - right_lane_loss: 0.0000e+00 - lead_loss: 0.0000e+00 - long_x_loss: 0.0000e+00 - long_v_loss: 0.1351 - long_a_loss: 0.0000e+00 - meta_loss: 0.0000e+00 - snpe_pleaser2_loss: 0.0000e+00 - pose_loss: 0.0000e+00 - add_3_loss: 0.0000e+00 - val_loss: 0.1728 - val_path_loss: 0.0000e+00 - val_left_lane_loss: 0.0000e+00 - val_right_lane_loss: 0.0000e+00 - val_lead_loss: 0.0000e+00 - val_long_x_loss: 0.0000e+00 - val_long_v_loss: 0.1728 - val_long_a_loss: 0.0000e+00 - val_meta_loss: 0.0000e+00 - val_snpe_pleaser2_loss: 0.0000e+00 - val_pose_loss: 0.0000e+00 - val_add_3_loss: 0.0000e+00\n",
      "Epoch 41/100\n",
      "200/200 [==============================] - 16s 82ms/step - loss: 0.2587 - path_loss: 0.0000e+00 - left_lane_loss: 0.0000e+00 - right_lane_loss: 0.0000e+00 - lead_loss: 0.0000e+00 - long_x_loss: 0.0000e+00 - long_v_loss: 0.2587 - long_a_loss: 0.0000e+00 - meta_loss: 0.0000e+00 - snpe_pleaser2_loss: 0.0000e+00 - pose_loss: 0.0000e+00 - add_3_loss: 0.0000e+00 - val_loss: 0.1338 - val_path_loss: 0.0000e+00 - val_left_lane_loss: 0.0000e+00 - val_right_lane_loss: 0.0000e+00 - val_lead_loss: 0.0000e+00 - val_long_x_loss: 0.0000e+00 - val_long_v_loss: 0.1338 - val_long_a_loss: 0.0000e+00 - val_meta_loss: 0.0000e+00 - val_snpe_pleaser2_loss: 0.0000e+00 - val_pose_loss: 0.0000e+00 - val_add_3_loss: 0.0000e+00\n",
      "Epoch 42/100\n",
      "200/200 [==============================] - 17s 83ms/step - loss: 0.2356 - path_loss: 0.0000e+00 - left_lane_loss: 0.0000e+00 - right_lane_loss: 0.0000e+00 - lead_loss: 0.0000e+00 - long_x_loss: 0.0000e+00 - long_v_loss: 0.2356 - long_a_loss: 0.0000e+00 - meta_loss: 0.0000e+00 - snpe_pleaser2_loss: 0.0000e+00 - pose_loss: 0.0000e+00 - add_3_loss: 0.0000e+00 - val_loss: 0.2030 - val_path_loss: 0.0000e+00 - val_left_lane_loss: 0.0000e+00 - val_right_lane_loss: 0.0000e+00 - val_lead_loss: 0.0000e+00 - val_long_x_loss: 0.0000e+00 - val_long_v_loss: 0.2030 - val_long_a_loss: 0.0000e+00 - val_meta_loss: 0.0000e+00 - val_snpe_pleaser2_loss: 0.0000e+00 - val_pose_loss: 0.0000e+00 - val_add_3_loss: 0.0000e+00\n",
      "Epoch 43/100\n",
      "200/200 [==============================] - 16s 82ms/step - loss: 0.2596 - path_loss: 0.0000e+00 - left_lane_loss: 0.0000e+00 - right_lane_loss: 0.0000e+00 - lead_loss: 0.0000e+00 - long_x_loss: 0.0000e+00 - long_v_loss: 0.2596 - long_a_loss: 0.0000e+00 - meta_loss: 0.0000e+00 - snpe_pleaser2_loss: 0.0000e+00 - pose_loss: 0.0000e+00 - add_3_loss: 0.0000e+00 - val_loss: 0.1076 - val_path_loss: 0.0000e+00 - val_left_lane_loss: 0.0000e+00 - val_right_lane_loss: 0.0000e+00 - val_lead_loss: 0.0000e+00 - val_long_x_loss: 0.0000e+00 - val_long_v_loss: 0.1076 - val_long_a_loss: 0.0000e+00 - val_meta_loss: 0.0000e+00 - val_snpe_pleaser2_loss: 0.0000e+00 - val_pose_loss: 0.0000e+00 - val_add_3_loss: 0.0000e+00\n",
      "Epoch 44/100\n"
     ]
    },
    {
     "name": "stdout",
     "output_type": "stream",
     "text": [
      "200/200 [==============================] - 16s 81ms/step - loss: 0.4146 - path_loss: 0.0000e+00 - left_lane_loss: 0.0000e+00 - right_lane_loss: 0.0000e+00 - lead_loss: 0.0000e+00 - long_x_loss: 0.0000e+00 - long_v_loss: 0.4146 - long_a_loss: 0.0000e+00 - meta_loss: 0.0000e+00 - snpe_pleaser2_loss: 0.0000e+00 - pose_loss: 0.0000e+00 - add_3_loss: 0.0000e+00 - val_loss: 0.1569 - val_path_loss: 0.0000e+00 - val_left_lane_loss: 0.0000e+00 - val_right_lane_loss: 0.0000e+00 - val_lead_loss: 0.0000e+00 - val_long_x_loss: 0.0000e+00 - val_long_v_loss: 0.1569 - val_long_a_loss: 0.0000e+00 - val_meta_loss: 0.0000e+00 - val_snpe_pleaser2_loss: 0.0000e+00 - val_pose_loss: 0.0000e+00 - val_add_3_loss: 0.0000e+00\n",
      "Epoch 45/100\n",
      "200/200 [==============================] - 16s 81ms/step - loss: 0.3311 - path_loss: 0.0000e+00 - left_lane_loss: 0.0000e+00 - right_lane_loss: 0.0000e+00 - lead_loss: 0.0000e+00 - long_x_loss: 0.0000e+00 - long_v_loss: 0.3311 - long_a_loss: 0.0000e+00 - meta_loss: 0.0000e+00 - snpe_pleaser2_loss: 0.0000e+00 - pose_loss: 0.0000e+00 - add_3_loss: 0.0000e+00 - val_loss: 0.2488 - val_path_loss: 0.0000e+00 - val_left_lane_loss: 0.0000e+00 - val_right_lane_loss: 0.0000e+00 - val_lead_loss: 0.0000e+00 - val_long_x_loss: 0.0000e+00 - val_long_v_loss: 0.2488 - val_long_a_loss: 0.0000e+00 - val_meta_loss: 0.0000e+00 - val_snpe_pleaser2_loss: 0.0000e+00 - val_pose_loss: 0.0000e+00 - val_add_3_loss: 0.0000e+00\n",
      "Epoch 46/100\n",
      "200/200 [==============================] - 17s 84ms/step - loss: 0.2030 - path_loss: 0.0000e+00 - left_lane_loss: 0.0000e+00 - right_lane_loss: 0.0000e+00 - lead_loss: 0.0000e+00 - long_x_loss: 0.0000e+00 - long_v_loss: 0.2030 - long_a_loss: 0.0000e+00 - meta_loss: 0.0000e+00 - snpe_pleaser2_loss: 0.0000e+00 - pose_loss: 0.0000e+00 - add_3_loss: 0.0000e+00 - val_loss: 0.3221 - val_path_loss: 0.0000e+00 - val_left_lane_loss: 0.0000e+00 - val_right_lane_loss: 0.0000e+00 - val_lead_loss: 0.0000e+00 - val_long_x_loss: 0.0000e+00 - val_long_v_loss: 0.3221 - val_long_a_loss: 0.0000e+00 - val_meta_loss: 0.0000e+00 - val_snpe_pleaser2_loss: 0.0000e+00 - val_pose_loss: 0.0000e+00 - val_add_3_loss: 0.0000e+00\n",
      "Epoch 47/100\n",
      "200/200 [==============================] - 16s 81ms/step - loss: 0.2081 - path_loss: 0.0000e+00 - left_lane_loss: 0.0000e+00 - right_lane_loss: 0.0000e+00 - lead_loss: 0.0000e+00 - long_x_loss: 0.0000e+00 - long_v_loss: 0.2081 - long_a_loss: 0.0000e+00 - meta_loss: 0.0000e+00 - snpe_pleaser2_loss: 0.0000e+00 - pose_loss: 0.0000e+00 - add_3_loss: 0.0000e+00 - val_loss: 0.0603 - val_path_loss: 0.0000e+00 - val_left_lane_loss: 0.0000e+00 - val_right_lane_loss: 0.0000e+00 - val_lead_loss: 0.0000e+00 - val_long_x_loss: 0.0000e+00 - val_long_v_loss: 0.0603 - val_long_a_loss: 0.0000e+00 - val_meta_loss: 0.0000e+00 - val_snpe_pleaser2_loss: 0.0000e+00 - val_pose_loss: 0.0000e+00 - val_add_3_loss: 0.0000e+00\n",
      "Epoch 48/100\n",
      "200/200 [==============================] - 17s 85ms/step - loss: 0.1721 - path_loss: 0.0000e+00 - left_lane_loss: 0.0000e+00 - right_lane_loss: 0.0000e+00 - lead_loss: 0.0000e+00 - long_x_loss: 0.0000e+00 - long_v_loss: 0.1721 - long_a_loss: 0.0000e+00 - meta_loss: 0.0000e+00 - snpe_pleaser2_loss: 0.0000e+00 - pose_loss: 0.0000e+00 - add_3_loss: 0.0000e+00 - val_loss: 0.0089 - val_path_loss: 0.0000e+00 - val_left_lane_loss: 0.0000e+00 - val_right_lane_loss: 0.0000e+00 - val_lead_loss: 0.0000e+00 - val_long_x_loss: 0.0000e+00 - val_long_v_loss: 0.0089 - val_long_a_loss: 0.0000e+00 - val_meta_loss: 0.0000e+00 - val_snpe_pleaser2_loss: 0.0000e+00 - val_pose_loss: 0.0000e+00 - val_add_3_loss: 0.0000e+00\n",
      "Epoch 49/100\n",
      "200/200 [==============================] - 16s 80ms/step - loss: 0.1950 - path_loss: 0.0000e+00 - left_lane_loss: 0.0000e+00 - right_lane_loss: 0.0000e+00 - lead_loss: 0.0000e+00 - long_x_loss: 0.0000e+00 - long_v_loss: 0.1950 - long_a_loss: 0.0000e+00 - meta_loss: 0.0000e+00 - snpe_pleaser2_loss: 0.0000e+00 - pose_loss: 0.0000e+00 - add_3_loss: 0.0000e+00 - val_loss: 0.2114 - val_path_loss: 0.0000e+00 - val_left_lane_loss: 0.0000e+00 - val_right_lane_loss: 0.0000e+00 - val_lead_loss: 0.0000e+00 - val_long_x_loss: 0.0000e+00 - val_long_v_loss: 0.2114 - val_long_a_loss: 0.0000e+00 - val_meta_loss: 0.0000e+00 - val_snpe_pleaser2_loss: 0.0000e+00 - val_pose_loss: 0.0000e+00 - val_add_3_loss: 0.0000e+00\n",
      "Epoch 50/100\n",
      "200/200 [==============================] - 21s 106ms/step - loss: 0.1910 - path_loss: 0.0000e+00 - left_lane_loss: 0.0000e+00 - right_lane_loss: 0.0000e+00 - lead_loss: 0.0000e+00 - long_x_loss: 0.0000e+00 - long_v_loss: 0.1910 - long_a_loss: 0.0000e+00 - meta_loss: 0.0000e+00 - snpe_pleaser2_loss: 0.0000e+00 - pose_loss: 0.0000e+00 - add_3_loss: 0.0000e+00 - val_loss: 0.1623 - val_path_loss: 0.0000e+00 - val_left_lane_loss: 0.0000e+00 - val_right_lane_loss: 0.0000e+00 - val_lead_loss: 0.0000e+00 - val_long_x_loss: 0.0000e+00 - val_long_v_loss: 0.1623 - val_long_a_loss: 0.0000e+00 - val_meta_loss: 0.0000e+00 - val_snpe_pleaser2_loss: 0.0000e+00 - val_pose_loss: 0.0000e+00 - val_add_3_loss: 0.0000e+00\n",
      "Epoch 51/100\n",
      "200/200 [==============================] - 17s 84ms/step - loss: 0.1980 - path_loss: 0.0000e+00 - left_lane_loss: 0.0000e+00 - right_lane_loss: 0.0000e+00 - lead_loss: 0.0000e+00 - long_x_loss: 0.0000e+00 - long_v_loss: 0.1980 - long_a_loss: 0.0000e+00 - meta_loss: 0.0000e+00 - snpe_pleaser2_loss: 0.0000e+00 - pose_loss: 0.0000e+00 - add_3_loss: 0.0000e+00 - val_loss: 0.2387 - val_path_loss: 0.0000e+00 - val_left_lane_loss: 0.0000e+00 - val_right_lane_loss: 0.0000e+00 - val_lead_loss: 0.0000e+00 - val_long_x_loss: 0.0000e+00 - val_long_v_loss: 0.2387 - val_long_a_loss: 0.0000e+00 - val_meta_loss: 0.0000e+00 - val_snpe_pleaser2_loss: 0.0000e+00 - val_pose_loss: 0.0000e+00 - val_add_3_loss: 0.0000e+00\n",
      "Epoch 52/100\n",
      "200/200 [==============================] - 16s 82ms/step - loss: 0.1742 - path_loss: 0.0000e+00 - left_lane_loss: 0.0000e+00 - right_lane_loss: 0.0000e+00 - lead_loss: 0.0000e+00 - long_x_loss: 0.0000e+00 - long_v_loss: 0.1742 - long_a_loss: 0.0000e+00 - meta_loss: 0.0000e+00 - snpe_pleaser2_loss: 0.0000e+00 - pose_loss: 0.0000e+00 - add_3_loss: 0.0000e+00 - val_loss: 0.3244 - val_path_loss: 0.0000e+00 - val_left_lane_loss: 0.0000e+00 - val_right_lane_loss: 0.0000e+00 - val_lead_loss: 0.0000e+00 - val_long_x_loss: 0.0000e+00 - val_long_v_loss: 0.3244 - val_long_a_loss: 0.0000e+00 - val_meta_loss: 0.0000e+00 - val_snpe_pleaser2_loss: 0.0000e+00 - val_pose_loss: 0.0000e+00 - val_add_3_loss: 0.0000e+00\n",
      "Epoch 53/100\n",
      "200/200 [==============================] - 16s 82ms/step - loss: 0.1973 - path_loss: 0.0000e+00 - left_lane_loss: 0.0000e+00 - right_lane_loss: 0.0000e+00 - lead_loss: 0.0000e+00 - long_x_loss: 0.0000e+00 - long_v_loss: 0.1973 - long_a_loss: 0.0000e+00 - meta_loss: 0.0000e+00 - snpe_pleaser2_loss: 0.0000e+00 - pose_loss: 0.0000e+00 - add_3_loss: 0.0000e+00 - val_loss: 0.1678 - val_path_loss: 0.0000e+00 - val_left_lane_loss: 0.0000e+00 - val_right_lane_loss: 0.0000e+00 - val_lead_loss: 0.0000e+00 - val_long_x_loss: 0.0000e+00 - val_long_v_loss: 0.1678 - val_long_a_loss: 0.0000e+00 - val_meta_loss: 0.0000e+00 - val_snpe_pleaser2_loss: 0.0000e+00 - val_pose_loss: 0.0000e+00 - val_add_3_loss: 0.0000e+00\n",
      "Epoch 54/100\n",
      "200/200 [==============================] - 16s 81ms/step - loss: 0.3327 - path_loss: 0.0000e+00 - left_lane_loss: 0.0000e+00 - right_lane_loss: 0.0000e+00 - lead_loss: 0.0000e+00 - long_x_loss: 0.0000e+00 - long_v_loss: 0.3327 - long_a_loss: 0.0000e+00 - meta_loss: 0.0000e+00 - snpe_pleaser2_loss: 0.0000e+00 - pose_loss: 0.0000e+00 - add_3_loss: 0.0000e+00 - val_loss: 0.4506 - val_path_loss: 0.0000e+00 - val_left_lane_loss: 0.0000e+00 - val_right_lane_loss: 0.0000e+00 - val_lead_loss: 0.0000e+00 - val_long_x_loss: 0.0000e+00 - val_long_v_loss: 0.4506 - val_long_a_loss: 0.0000e+00 - val_meta_loss: 0.0000e+00 - val_snpe_pleaser2_loss: 0.0000e+00 - val_pose_loss: 0.0000e+00 - val_add_3_loss: 0.0000e+00\n",
      "Epoch 55/100\n"
     ]
    },
    {
     "name": "stdout",
     "output_type": "stream",
     "text": [
      "200/200 [==============================] - 16s 81ms/step - loss: 0.2050 - path_loss: 0.0000e+00 - left_lane_loss: 0.0000e+00 - right_lane_loss: 0.0000e+00 - lead_loss: 0.0000e+00 - long_x_loss: 0.0000e+00 - long_v_loss: 0.2050 - long_a_loss: 0.0000e+00 - meta_loss: 0.0000e+00 - snpe_pleaser2_loss: 0.0000e+00 - pose_loss: 0.0000e+00 - add_3_loss: 0.0000e+00 - val_loss: 0.0374 - val_path_loss: 0.0000e+00 - val_left_lane_loss: 0.0000e+00 - val_right_lane_loss: 0.0000e+00 - val_lead_loss: 0.0000e+00 - val_long_x_loss: 0.0000e+00 - val_long_v_loss: 0.0374 - val_long_a_loss: 0.0000e+00 - val_meta_loss: 0.0000e+00 - val_snpe_pleaser2_loss: 0.0000e+00 - val_pose_loss: 0.0000e+00 - val_add_3_loss: 0.0000e+00\n",
      "Epoch 56/100\n",
      "200/200 [==============================] - 16s 82ms/step - loss: 0.2029 - path_loss: 0.0000e+00 - left_lane_loss: 0.0000e+00 - right_lane_loss: 0.0000e+00 - lead_loss: 0.0000e+00 - long_x_loss: 0.0000e+00 - long_v_loss: 0.2029 - long_a_loss: 0.0000e+00 - meta_loss: 0.0000e+00 - snpe_pleaser2_loss: 0.0000e+00 - pose_loss: 0.0000e+00 - add_3_loss: 0.0000e+00 - val_loss: 0.1381 - val_path_loss: 0.0000e+00 - val_left_lane_loss: 0.0000e+00 - val_right_lane_loss: 0.0000e+00 - val_lead_loss: 0.0000e+00 - val_long_x_loss: 0.0000e+00 - val_long_v_loss: 0.1381 - val_long_a_loss: 0.0000e+00 - val_meta_loss: 0.0000e+00 - val_snpe_pleaser2_loss: 0.0000e+00 - val_pose_loss: 0.0000e+00 - val_add_3_loss: 0.0000e+00\n",
      "Epoch 57/100\n",
      "200/200 [==============================] - 17s 85ms/step - loss: 0.1629 - path_loss: 0.0000e+00 - left_lane_loss: 0.0000e+00 - right_lane_loss: 0.0000e+00 - lead_loss: 0.0000e+00 - long_x_loss: 0.0000e+00 - long_v_loss: 0.1629 - long_a_loss: 0.0000e+00 - meta_loss: 0.0000e+00 - snpe_pleaser2_loss: 0.0000e+00 - pose_loss: 0.0000e+00 - add_3_loss: 0.0000e+00 - val_loss: 0.0830 - val_path_loss: 0.0000e+00 - val_left_lane_loss: 0.0000e+00 - val_right_lane_loss: 0.0000e+00 - val_lead_loss: 0.0000e+00 - val_long_x_loss: 0.0000e+00 - val_long_v_loss: 0.0830 - val_long_a_loss: 0.0000e+00 - val_meta_loss: 0.0000e+00 - val_snpe_pleaser2_loss: 0.0000e+00 - val_pose_loss: 0.0000e+00 - val_add_3_loss: 0.0000e+00\n",
      "Epoch 58/100\n",
      "200/200 [==============================] - 16s 81ms/step - loss: 0.1460 - path_loss: 0.0000e+00 - left_lane_loss: 0.0000e+00 - right_lane_loss: 0.0000e+00 - lead_loss: 0.0000e+00 - long_x_loss: 0.0000e+00 - long_v_loss: 0.1460 - long_a_loss: 0.0000e+00 - meta_loss: 0.0000e+00 - snpe_pleaser2_loss: 0.0000e+00 - pose_loss: 0.0000e+00 - add_3_loss: 0.0000e+00 - val_loss: 0.1367 - val_path_loss: 0.0000e+00 - val_left_lane_loss: 0.0000e+00 - val_right_lane_loss: 0.0000e+00 - val_lead_loss: 0.0000e+00 - val_long_x_loss: 0.0000e+00 - val_long_v_loss: 0.1367 - val_long_a_loss: 0.0000e+00 - val_meta_loss: 0.0000e+00 - val_snpe_pleaser2_loss: 0.0000e+00 - val_pose_loss: 0.0000e+00 - val_add_3_loss: 0.0000e+00\n",
      "Epoch 59/100\n",
      "200/200 [==============================] - 16s 81ms/step - loss: 0.1919 - path_loss: 0.0000e+00 - left_lane_loss: 0.0000e+00 - right_lane_loss: 0.0000e+00 - lead_loss: 0.0000e+00 - long_x_loss: 0.0000e+00 - long_v_loss: 0.1919 - long_a_loss: 0.0000e+00 - meta_loss: 0.0000e+00 - snpe_pleaser2_loss: 0.0000e+00 - pose_loss: 0.0000e+00 - add_3_loss: 0.0000e+00 - val_loss: 0.3556 - val_path_loss: 0.0000e+00 - val_left_lane_loss: 0.0000e+00 - val_right_lane_loss: 0.0000e+00 - val_lead_loss: 0.0000e+00 - val_long_x_loss: 0.0000e+00 - val_long_v_loss: 0.3556 - val_long_a_loss: 0.0000e+00 - val_meta_loss: 0.0000e+00 - val_snpe_pleaser2_loss: 0.0000e+00 - val_pose_loss: 0.0000e+00 - val_add_3_loss: 0.0000e+00\n",
      "Epoch 60/100\n",
      "200/200 [==============================] - 17s 84ms/step - loss: 0.1766 - path_loss: 0.0000e+00 - left_lane_loss: 0.0000e+00 - right_lane_loss: 0.0000e+00 - lead_loss: 0.0000e+00 - long_x_loss: 0.0000e+00 - long_v_loss: 0.1766 - long_a_loss: 0.0000e+00 - meta_loss: 0.0000e+00 - snpe_pleaser2_loss: 0.0000e+00 - pose_loss: 0.0000e+00 - add_3_loss: 0.0000e+00 - val_loss: 0.2545 - val_path_loss: 0.0000e+00 - val_left_lane_loss: 0.0000e+00 - val_right_lane_loss: 0.0000e+00 - val_lead_loss: 0.0000e+00 - val_long_x_loss: 0.0000e+00 - val_long_v_loss: 0.2545 - val_long_a_loss: 0.0000e+00 - val_meta_loss: 0.0000e+00 - val_snpe_pleaser2_loss: 0.0000e+00 - val_pose_loss: 0.0000e+00 - val_add_3_loss: 0.0000e+00\n",
      "Epoch 61/100\n",
      "200/200 [==============================] - 17s 85ms/step - loss: 0.1586 - path_loss: 0.0000e+00 - left_lane_loss: 0.0000e+00 - right_lane_loss: 0.0000e+00 - lead_loss: 0.0000e+00 - long_x_loss: 0.0000e+00 - long_v_loss: 0.1586 - long_a_loss: 0.0000e+00 - meta_loss: 0.0000e+00 - snpe_pleaser2_loss: 0.0000e+00 - pose_loss: 0.0000e+00 - add_3_loss: 0.0000e+00 - val_loss: 0.1982 - val_path_loss: 0.0000e+00 - val_left_lane_loss: 0.0000e+00 - val_right_lane_loss: 0.0000e+00 - val_lead_loss: 0.0000e+00 - val_long_x_loss: 0.0000e+00 - val_long_v_loss: 0.1982 - val_long_a_loss: 0.0000e+00 - val_meta_loss: 0.0000e+00 - val_snpe_pleaser2_loss: 0.0000e+00 - val_pose_loss: 0.0000e+00 - val_add_3_loss: 0.0000e+00\n",
      "Epoch 62/100\n",
      "200/200 [==============================] - 16s 81ms/step - loss: 0.1512 - path_loss: 0.0000e+00 - left_lane_loss: 0.0000e+00 - right_lane_loss: 0.0000e+00 - lead_loss: 0.0000e+00 - long_x_loss: 0.0000e+00 - long_v_loss: 0.1512 - long_a_loss: 0.0000e+00 - meta_loss: 0.0000e+00 - snpe_pleaser2_loss: 0.0000e+00 - pose_loss: 0.0000e+00 - add_3_loss: 0.0000e+00 - val_loss: 0.1461 - val_path_loss: 0.0000e+00 - val_left_lane_loss: 0.0000e+00 - val_right_lane_loss: 0.0000e+00 - val_lead_loss: 0.0000e+00 - val_long_x_loss: 0.0000e+00 - val_long_v_loss: 0.1461 - val_long_a_loss: 0.0000e+00 - val_meta_loss: 0.0000e+00 - val_snpe_pleaser2_loss: 0.0000e+00 - val_pose_loss: 0.0000e+00 - val_add_3_loss: 0.0000e+00\n",
      "Epoch 63/100\n",
      "200/200 [==============================] - 16s 82ms/step - loss: 0.1807 - path_loss: 0.0000e+00 - left_lane_loss: 0.0000e+00 - right_lane_loss: 0.0000e+00 - lead_loss: 0.0000e+00 - long_x_loss: 0.0000e+00 - long_v_loss: 0.1807 - long_a_loss: 0.0000e+00 - meta_loss: 0.0000e+00 - snpe_pleaser2_loss: 0.0000e+00 - pose_loss: 0.0000e+00 - add_3_loss: 0.0000e+00 - val_loss: 0.1683 - val_path_loss: 0.0000e+00 - val_left_lane_loss: 0.0000e+00 - val_right_lane_loss: 0.0000e+00 - val_lead_loss: 0.0000e+00 - val_long_x_loss: 0.0000e+00 - val_long_v_loss: 0.1683 - val_long_a_loss: 0.0000e+00 - val_meta_loss: 0.0000e+00 - val_snpe_pleaser2_loss: 0.0000e+00 - val_pose_loss: 0.0000e+00 - val_add_3_loss: 0.0000e+00\n",
      "Epoch 64/100\n",
      "200/200 [==============================] - 19s 95ms/step - loss: 0.2020 - path_loss: 0.0000e+00 - left_lane_loss: 0.0000e+00 - right_lane_loss: 0.0000e+00 - lead_loss: 0.0000e+00 - long_x_loss: 0.0000e+00 - long_v_loss: 0.2020 - long_a_loss: 0.0000e+00 - meta_loss: 0.0000e+00 - snpe_pleaser2_loss: 0.0000e+00 - pose_loss: 0.0000e+00 - add_3_loss: 0.0000e+00 - val_loss: 0.1819 - val_path_loss: 0.0000e+00 - val_left_lane_loss: 0.0000e+00 - val_right_lane_loss: 0.0000e+00 - val_lead_loss: 0.0000e+00 - val_long_x_loss: 0.0000e+00 - val_long_v_loss: 0.1819 - val_long_a_loss: 0.0000e+00 - val_meta_loss: 0.0000e+00 - val_snpe_pleaser2_loss: 0.0000e+00 - val_pose_loss: 0.0000e+00 - val_add_3_loss: 0.0000e+00\n",
      "Epoch 65/100\n",
      "200/200 [==============================] - 16s 81ms/step - loss: 0.2077 - path_loss: 0.0000e+00 - left_lane_loss: 0.0000e+00 - right_lane_loss: 0.0000e+00 - lead_loss: 0.0000e+00 - long_x_loss: 0.0000e+00 - long_v_loss: 0.2077 - long_a_loss: 0.0000e+00 - meta_loss: 0.0000e+00 - snpe_pleaser2_loss: 0.0000e+00 - pose_loss: 0.0000e+00 - add_3_loss: 0.0000e+00 - val_loss: 0.1182 - val_path_loss: 0.0000e+00 - val_left_lane_loss: 0.0000e+00 - val_right_lane_loss: 0.0000e+00 - val_lead_loss: 0.0000e+00 - val_long_x_loss: 0.0000e+00 - val_long_v_loss: 0.1182 - val_long_a_loss: 0.0000e+00 - val_meta_loss: 0.0000e+00 - val_snpe_pleaser2_loss: 0.0000e+00 - val_pose_loss: 0.0000e+00 - val_add_3_loss: 0.0000e+00\n",
      "Epoch 66/100\n"
     ]
    },
    {
     "name": "stdout",
     "output_type": "stream",
     "text": [
      "200/200 [==============================] - 16s 81ms/step - loss: 0.1856 - path_loss: 0.0000e+00 - left_lane_loss: 0.0000e+00 - right_lane_loss: 0.0000e+00 - lead_loss: 0.0000e+00 - long_x_loss: 0.0000e+00 - long_v_loss: 0.1856 - long_a_loss: 0.0000e+00 - meta_loss: 0.0000e+00 - snpe_pleaser2_loss: 0.0000e+00 - pose_loss: 0.0000e+00 - add_3_loss: 0.0000e+00 - val_loss: 0.1643 - val_path_loss: 0.0000e+00 - val_left_lane_loss: 0.0000e+00 - val_right_lane_loss: 0.0000e+00 - val_lead_loss: 0.0000e+00 - val_long_x_loss: 0.0000e+00 - val_long_v_loss: 0.1643 - val_long_a_loss: 0.0000e+00 - val_meta_loss: 0.0000e+00 - val_snpe_pleaser2_loss: 0.0000e+00 - val_pose_loss: 0.0000e+00 - val_add_3_loss: 0.0000e+00\n",
      "Epoch 67/100\n",
      "200/200 [==============================] - 18s 88ms/step - loss: 0.2360 - path_loss: 0.0000e+00 - left_lane_loss: 0.0000e+00 - right_lane_loss: 0.0000e+00 - lead_loss: 0.0000e+00 - long_x_loss: 0.0000e+00 - long_v_loss: 0.2360 - long_a_loss: 0.0000e+00 - meta_loss: 0.0000e+00 - snpe_pleaser2_loss: 0.0000e+00 - pose_loss: 0.0000e+00 - add_3_loss: 0.0000e+00 - val_loss: 0.2576 - val_path_loss: 0.0000e+00 - val_left_lane_loss: 0.0000e+00 - val_right_lane_loss: 0.0000e+00 - val_lead_loss: 0.0000e+00 - val_long_x_loss: 0.0000e+00 - val_long_v_loss: 0.2576 - val_long_a_loss: 0.0000e+00 - val_meta_loss: 0.0000e+00 - val_snpe_pleaser2_loss: 0.0000e+00 - val_pose_loss: 0.0000e+00 - val_add_3_loss: 0.0000e+00\n",
      "Epoch 68/100\n",
      "200/200 [==============================] - 17s 85ms/step - loss: 0.3167 - path_loss: 0.0000e+00 - left_lane_loss: 0.0000e+00 - right_lane_loss: 0.0000e+00 - lead_loss: 0.0000e+00 - long_x_loss: 0.0000e+00 - long_v_loss: 0.3167 - long_a_loss: 0.0000e+00 - meta_loss: 0.0000e+00 - snpe_pleaser2_loss: 0.0000e+00 - pose_loss: 0.0000e+00 - add_3_loss: 0.0000e+00 - val_loss: 0.2023 - val_path_loss: 0.0000e+00 - val_left_lane_loss: 0.0000e+00 - val_right_lane_loss: 0.0000e+00 - val_lead_loss: 0.0000e+00 - val_long_x_loss: 0.0000e+00 - val_long_v_loss: 0.2023 - val_long_a_loss: 0.0000e+00 - val_meta_loss: 0.0000e+00 - val_snpe_pleaser2_loss: 0.0000e+00 - val_pose_loss: 0.0000e+00 - val_add_3_loss: 0.0000e+00\n",
      "Epoch 69/100\n",
      "200/200 [==============================] - 19s 93ms/step - loss: 0.2781 - path_loss: 0.0000e+00 - left_lane_loss: 0.0000e+00 - right_lane_loss: 0.0000e+00 - lead_loss: 0.0000e+00 - long_x_loss: 0.0000e+00 - long_v_loss: 0.2781 - long_a_loss: 0.0000e+00 - meta_loss: 0.0000e+00 - snpe_pleaser2_loss: 0.0000e+00 - pose_loss: 0.0000e+00 - add_3_loss: 0.0000e+00 - val_loss: 0.1261 - val_path_loss: 0.0000e+00 - val_left_lane_loss: 0.0000e+00 - val_right_lane_loss: 0.0000e+00 - val_lead_loss: 0.0000e+00 - val_long_x_loss: 0.0000e+00 - val_long_v_loss: 0.1261 - val_long_a_loss: 0.0000e+00 - val_meta_loss: 0.0000e+00 - val_snpe_pleaser2_loss: 0.0000e+00 - val_pose_loss: 0.0000e+00 - val_add_3_loss: 0.0000e+00\n",
      "Epoch 70/100\n",
      "200/200 [==============================] - 22s 112ms/step - loss: 0.1907 - path_loss: 0.0000e+00 - left_lane_loss: 0.0000e+00 - right_lane_loss: 0.0000e+00 - lead_loss: 0.0000e+00 - long_x_loss: 0.0000e+00 - long_v_loss: 0.1907 - long_a_loss: 0.0000e+00 - meta_loss: 0.0000e+00 - snpe_pleaser2_loss: 0.0000e+00 - pose_loss: 0.0000e+00 - add_3_loss: 0.0000e+00 - val_loss: 0.1182 - val_path_loss: 0.0000e+00 - val_left_lane_loss: 0.0000e+00 - val_right_lane_loss: 0.0000e+00 - val_lead_loss: 0.0000e+00 - val_long_x_loss: 0.0000e+00 - val_long_v_loss: 0.1182 - val_long_a_loss: 0.0000e+00 - val_meta_loss: 0.0000e+00 - val_snpe_pleaser2_loss: 0.0000e+00 - val_pose_loss: 0.0000e+00 - val_add_3_loss: 0.0000e+00\n",
      "Epoch 71/100\n",
      "200/200 [==============================] - 16s 81ms/step - loss: 0.1938 - path_loss: 0.0000e+00 - left_lane_loss: 0.0000e+00 - right_lane_loss: 0.0000e+00 - lead_loss: 0.0000e+00 - long_x_loss: 0.0000e+00 - long_v_loss: 0.1938 - long_a_loss: 0.0000e+00 - meta_loss: 0.0000e+00 - snpe_pleaser2_loss: 0.0000e+00 - pose_loss: 0.0000e+00 - add_3_loss: 0.0000e+00 - val_loss: 0.4487 - val_path_loss: 0.0000e+00 - val_left_lane_loss: 0.0000e+00 - val_right_lane_loss: 0.0000e+00 - val_lead_loss: 0.0000e+00 - val_long_x_loss: 0.0000e+00 - val_long_v_loss: 0.4487 - val_long_a_loss: 0.0000e+00 - val_meta_loss: 0.0000e+00 - val_snpe_pleaser2_loss: 0.0000e+00 - val_pose_loss: 0.0000e+00 - val_add_3_loss: 0.0000e+00\n",
      "Epoch 72/100\n",
      "200/200 [==============================] - 16s 82ms/step - loss: 0.2181 - path_loss: 0.0000e+00 - left_lane_loss: 0.0000e+00 - right_lane_loss: 0.0000e+00 - lead_loss: 0.0000e+00 - long_x_loss: 0.0000e+00 - long_v_loss: 0.2181 - long_a_loss: 0.0000e+00 - meta_loss: 0.0000e+00 - snpe_pleaser2_loss: 0.0000e+00 - pose_loss: 0.0000e+00 - add_3_loss: 0.0000e+00 - val_loss: 0.6052 - val_path_loss: 0.0000e+00 - val_left_lane_loss: 0.0000e+00 - val_right_lane_loss: 0.0000e+00 - val_lead_loss: 0.0000e+00 - val_long_x_loss: 0.0000e+00 - val_long_v_loss: 0.6052 - val_long_a_loss: 0.0000e+00 - val_meta_loss: 0.0000e+00 - val_snpe_pleaser2_loss: 0.0000e+00 - val_pose_loss: 0.0000e+00 - val_add_3_loss: 0.0000e+00\n",
      "Epoch 73/100\n",
      "200/200 [==============================] - 16s 81ms/step - loss: 0.2900 - path_loss: 0.0000e+00 - left_lane_loss: 0.0000e+00 - right_lane_loss: 0.0000e+00 - lead_loss: 0.0000e+00 - long_x_loss: 0.0000e+00 - long_v_loss: 0.2900 - long_a_loss: 0.0000e+00 - meta_loss: 0.0000e+00 - snpe_pleaser2_loss: 0.0000e+00 - pose_loss: 0.0000e+00 - add_3_loss: 0.0000e+00 - val_loss: 0.7253 - val_path_loss: 0.0000e+00 - val_left_lane_loss: 0.0000e+00 - val_right_lane_loss: 0.0000e+00 - val_lead_loss: 0.0000e+00 - val_long_x_loss: 0.0000e+00 - val_long_v_loss: 0.7253 - val_long_a_loss: 0.0000e+00 - val_meta_loss: 0.0000e+00 - val_snpe_pleaser2_loss: 0.0000e+00 - val_pose_loss: 0.0000e+00 - val_add_3_loss: 0.0000e+00\n",
      "Epoch 74/100\n",
      "200/200 [==============================] - 16s 81ms/step - loss: 0.2491 - path_loss: 0.0000e+00 - left_lane_loss: 0.0000e+00 - right_lane_loss: 0.0000e+00 - lead_loss: 0.0000e+00 - long_x_loss: 0.0000e+00 - long_v_loss: 0.2491 - long_a_loss: 0.0000e+00 - meta_loss: 0.0000e+00 - snpe_pleaser2_loss: 0.0000e+00 - pose_loss: 0.0000e+00 - add_3_loss: 0.0000e+00 - val_loss: 0.3653 - val_path_loss: 0.0000e+00 - val_left_lane_loss: 0.0000e+00 - val_right_lane_loss: 0.0000e+00 - val_lead_loss: 0.0000e+00 - val_long_x_loss: 0.0000e+00 - val_long_v_loss: 0.3653 - val_long_a_loss: 0.0000e+00 - val_meta_loss: 0.0000e+00 - val_snpe_pleaser2_loss: 0.0000e+00 - val_pose_loss: 0.0000e+00 - val_add_3_loss: 0.0000e+00\n",
      "Epoch 75/100\n",
      "200/200 [==============================] - 16s 81ms/step - loss: 0.2231 - path_loss: 0.0000e+00 - left_lane_loss: 0.0000e+00 - right_lane_loss: 0.0000e+00 - lead_loss: 0.0000e+00 - long_x_loss: 0.0000e+00 - long_v_loss: 0.2231 - long_a_loss: 0.0000e+00 - meta_loss: 0.0000e+00 - snpe_pleaser2_loss: 0.0000e+00 - pose_loss: 0.0000e+00 - add_3_loss: 0.0000e+00 - val_loss: 0.1857 - val_path_loss: 0.0000e+00 - val_left_lane_loss: 0.0000e+00 - val_right_lane_loss: 0.0000e+00 - val_lead_loss: 0.0000e+00 - val_long_x_loss: 0.0000e+00 - val_long_v_loss: 0.1857 - val_long_a_loss: 0.0000e+00 - val_meta_loss: 0.0000e+00 - val_snpe_pleaser2_loss: 0.0000e+00 - val_pose_loss: 0.0000e+00 - val_add_3_loss: 0.0000e+00\n",
      "Epoch 76/100\n",
      "200/200 [==============================] - 16s 81ms/step - loss: 0.1720 - path_loss: 0.0000e+00 - left_lane_loss: 0.0000e+00 - right_lane_loss: 0.0000e+00 - lead_loss: 0.0000e+00 - long_x_loss: 0.0000e+00 - long_v_loss: 0.1720 - long_a_loss: 0.0000e+00 - meta_loss: 0.0000e+00 - snpe_pleaser2_loss: 0.0000e+00 - pose_loss: 0.0000e+00 - add_3_loss: 0.0000e+00 - val_loss: 0.1889 - val_path_loss: 0.0000e+00 - val_left_lane_loss: 0.0000e+00 - val_right_lane_loss: 0.0000e+00 - val_lead_loss: 0.0000e+00 - val_long_x_loss: 0.0000e+00 - val_long_v_loss: 0.1889 - val_long_a_loss: 0.0000e+00 - val_meta_loss: 0.0000e+00 - val_snpe_pleaser2_loss: 0.0000e+00 - val_pose_loss: 0.0000e+00 - val_add_3_loss: 0.0000e+00\n",
      "Epoch 77/100\n"
     ]
    },
    {
     "name": "stdout",
     "output_type": "stream",
     "text": [
      "200/200 [==============================] - 16s 81ms/step - loss: 0.1406 - path_loss: 0.0000e+00 - left_lane_loss: 0.0000e+00 - right_lane_loss: 0.0000e+00 - lead_loss: 0.0000e+00 - long_x_loss: 0.0000e+00 - long_v_loss: 0.1406 - long_a_loss: 0.0000e+00 - meta_loss: 0.0000e+00 - snpe_pleaser2_loss: 0.0000e+00 - pose_loss: 0.0000e+00 - add_3_loss: 0.0000e+00 - val_loss: 0.0410 - val_path_loss: 0.0000e+00 - val_left_lane_loss: 0.0000e+00 - val_right_lane_loss: 0.0000e+00 - val_lead_loss: 0.0000e+00 - val_long_x_loss: 0.0000e+00 - val_long_v_loss: 0.0410 - val_long_a_loss: 0.0000e+00 - val_meta_loss: 0.0000e+00 - val_snpe_pleaser2_loss: 0.0000e+00 - val_pose_loss: 0.0000e+00 - val_add_3_loss: 0.0000e+00\n",
      "Epoch 78/100\n",
      "200/200 [==============================] - 16s 82ms/step - loss: 0.2102 - path_loss: 0.0000e+00 - left_lane_loss: 0.0000e+00 - right_lane_loss: 0.0000e+00 - lead_loss: 0.0000e+00 - long_x_loss: 0.0000e+00 - long_v_loss: 0.2102 - long_a_loss: 0.0000e+00 - meta_loss: 0.0000e+00 - snpe_pleaser2_loss: 0.0000e+00 - pose_loss: 0.0000e+00 - add_3_loss: 0.0000e+00 - val_loss: 0.0863 - val_path_loss: 0.0000e+00 - val_left_lane_loss: 0.0000e+00 - val_right_lane_loss: 0.0000e+00 - val_lead_loss: 0.0000e+00 - val_long_x_loss: 0.0000e+00 - val_long_v_loss: 0.0863 - val_long_a_loss: 0.0000e+00 - val_meta_loss: 0.0000e+00 - val_snpe_pleaser2_loss: 0.0000e+00 - val_pose_loss: 0.0000e+00 - val_add_3_loss: 0.0000e+00\n",
      "Epoch 79/100\n",
      "200/200 [==============================] - 16s 81ms/step - loss: 0.1363 - path_loss: 0.0000e+00 - left_lane_loss: 0.0000e+00 - right_lane_loss: 0.0000e+00 - lead_loss: 0.0000e+00 - long_x_loss: 0.0000e+00 - long_v_loss: 0.1363 - long_a_loss: 0.0000e+00 - meta_loss: 0.0000e+00 - snpe_pleaser2_loss: 0.0000e+00 - pose_loss: 0.0000e+00 - add_3_loss: 0.0000e+00 - val_loss: 0.1756 - val_path_loss: 0.0000e+00 - val_left_lane_loss: 0.0000e+00 - val_right_lane_loss: 0.0000e+00 - val_lead_loss: 0.0000e+00 - val_long_x_loss: 0.0000e+00 - val_long_v_loss: 0.1756 - val_long_a_loss: 0.0000e+00 - val_meta_loss: 0.0000e+00 - val_snpe_pleaser2_loss: 0.0000e+00 - val_pose_loss: 0.0000e+00 - val_add_3_loss: 0.0000e+00\n",
      "Epoch 80/100\n",
      "200/200 [==============================] - 16s 81ms/step - loss: 0.2267 - path_loss: 0.0000e+00 - left_lane_loss: 0.0000e+00 - right_lane_loss: 0.0000e+00 - lead_loss: 0.0000e+00 - long_x_loss: 0.0000e+00 - long_v_loss: 0.2267 - long_a_loss: 0.0000e+00 - meta_loss: 0.0000e+00 - snpe_pleaser2_loss: 0.0000e+00 - pose_loss: 0.0000e+00 - add_3_loss: 0.0000e+00 - val_loss: 0.4593 - val_path_loss: 0.0000e+00 - val_left_lane_loss: 0.0000e+00 - val_right_lane_loss: 0.0000e+00 - val_lead_loss: 0.0000e+00 - val_long_x_loss: 0.0000e+00 - val_long_v_loss: 0.4593 - val_long_a_loss: 0.0000e+00 - val_meta_loss: 0.0000e+00 - val_snpe_pleaser2_loss: 0.0000e+00 - val_pose_loss: 0.0000e+00 - val_add_3_loss: 0.0000e+00\n",
      "Epoch 81/100\n",
      "200/200 [==============================] - 16s 82ms/step - loss: 0.2109 - path_loss: 0.0000e+00 - left_lane_loss: 0.0000e+00 - right_lane_loss: 0.0000e+00 - lead_loss: 0.0000e+00 - long_x_loss: 0.0000e+00 - long_v_loss: 0.2109 - long_a_loss: 0.0000e+00 - meta_loss: 0.0000e+00 - snpe_pleaser2_loss: 0.0000e+00 - pose_loss: 0.0000e+00 - add_3_loss: 0.0000e+00 - val_loss: 0.1262 - val_path_loss: 0.0000e+00 - val_left_lane_loss: 0.0000e+00 - val_right_lane_loss: 0.0000e+00 - val_lead_loss: 0.0000e+00 - val_long_x_loss: 0.0000e+00 - val_long_v_loss: 0.1262 - val_long_a_loss: 0.0000e+00 - val_meta_loss: 0.0000e+00 - val_snpe_pleaser2_loss: 0.0000e+00 - val_pose_loss: 0.0000e+00 - val_add_3_loss: 0.0000e+00\n",
      "Epoch 82/100\n",
      "200/200 [==============================] - 16s 80ms/step - loss: 0.1668 - path_loss: 0.0000e+00 - left_lane_loss: 0.0000e+00 - right_lane_loss: 0.0000e+00 - lead_loss: 0.0000e+00 - long_x_loss: 0.0000e+00 - long_v_loss: 0.1668 - long_a_loss: 0.0000e+00 - meta_loss: 0.0000e+00 - snpe_pleaser2_loss: 0.0000e+00 - pose_loss: 0.0000e+00 - add_3_loss: 0.0000e+00 - val_loss: 0.2340 - val_path_loss: 0.0000e+00 - val_left_lane_loss: 0.0000e+00 - val_right_lane_loss: 0.0000e+00 - val_lead_loss: 0.0000e+00 - val_long_x_loss: 0.0000e+00 - val_long_v_loss: 0.2340 - val_long_a_loss: 0.0000e+00 - val_meta_loss: 0.0000e+00 - val_snpe_pleaser2_loss: 0.0000e+00 - val_pose_loss: 0.0000e+00 - val_add_3_loss: 0.0000e+00\n",
      "Epoch 83/100\n",
      "200/200 [==============================] - 16s 80ms/step - loss: 0.1672 - path_loss: 0.0000e+00 - left_lane_loss: 0.0000e+00 - right_lane_loss: 0.0000e+00 - lead_loss: 0.0000e+00 - long_x_loss: 0.0000e+00 - long_v_loss: 0.1672 - long_a_loss: 0.0000e+00 - meta_loss: 0.0000e+00 - snpe_pleaser2_loss: 0.0000e+00 - pose_loss: 0.0000e+00 - add_3_loss: 0.0000e+00 - val_loss: 0.1368 - val_path_loss: 0.0000e+00 - val_left_lane_loss: 0.0000e+00 - val_right_lane_loss: 0.0000e+00 - val_lead_loss: 0.0000e+00 - val_long_x_loss: 0.0000e+00 - val_long_v_loss: 0.1368 - val_long_a_loss: 0.0000e+00 - val_meta_loss: 0.0000e+00 - val_snpe_pleaser2_loss: 0.0000e+00 - val_pose_loss: 0.0000e+00 - val_add_3_loss: 0.0000e+00\n",
      "Epoch 84/100\n",
      "200/200 [==============================] - 16s 82ms/step - loss: 0.1270 - path_loss: 0.0000e+00 - left_lane_loss: 0.0000e+00 - right_lane_loss: 0.0000e+00 - lead_loss: 0.0000e+00 - long_x_loss: 0.0000e+00 - long_v_loss: 0.1270 - long_a_loss: 0.0000e+00 - meta_loss: 0.0000e+00 - snpe_pleaser2_loss: 0.0000e+00 - pose_loss: 0.0000e+00 - add_3_loss: 0.0000e+00 - val_loss: 0.1300 - val_path_loss: 0.0000e+00 - val_left_lane_loss: 0.0000e+00 - val_right_lane_loss: 0.0000e+00 - val_lead_loss: 0.0000e+00 - val_long_x_loss: 0.0000e+00 - val_long_v_loss: 0.1300 - val_long_a_loss: 0.0000e+00 - val_meta_loss: 0.0000e+00 - val_snpe_pleaser2_loss: 0.0000e+00 - val_pose_loss: 0.0000e+00 - val_add_3_loss: 0.0000e+00\n",
      "Epoch 85/100\n",
      "200/200 [==============================] - 17s 83ms/step - loss: 0.1947 - path_loss: 0.0000e+00 - left_lane_loss: 0.0000e+00 - right_lane_loss: 0.0000e+00 - lead_loss: 0.0000e+00 - long_x_loss: 0.0000e+00 - long_v_loss: 0.1947 - long_a_loss: 0.0000e+00 - meta_loss: 0.0000e+00 - snpe_pleaser2_loss: 0.0000e+00 - pose_loss: 0.0000e+00 - add_3_loss: 0.0000e+00 - val_loss: 0.0978 - val_path_loss: 0.0000e+00 - val_left_lane_loss: 0.0000e+00 - val_right_lane_loss: 0.0000e+00 - val_lead_loss: 0.0000e+00 - val_long_x_loss: 0.0000e+00 - val_long_v_loss: 0.0978 - val_long_a_loss: 0.0000e+00 - val_meta_loss: 0.0000e+00 - val_snpe_pleaser2_loss: 0.0000e+00 - val_pose_loss: 0.0000e+00 - val_add_3_loss: 0.0000e+00\n",
      "Epoch 86/100\n",
      "200/200 [==============================] - 16s 80ms/step - loss: 0.1024 - path_loss: 0.0000e+00 - left_lane_loss: 0.0000e+00 - right_lane_loss: 0.0000e+00 - lead_loss: 0.0000e+00 - long_x_loss: 0.0000e+00 - long_v_loss: 0.1024 - long_a_loss: 0.0000e+00 - meta_loss: 0.0000e+00 - snpe_pleaser2_loss: 0.0000e+00 - pose_loss: 0.0000e+00 - add_3_loss: 0.0000e+00 - val_loss: 0.0802 - val_path_loss: 0.0000e+00 - val_left_lane_loss: 0.0000e+00 - val_right_lane_loss: 0.0000e+00 - val_lead_loss: 0.0000e+00 - val_long_x_loss: 0.0000e+00 - val_long_v_loss: 0.0802 - val_long_a_loss: 0.0000e+00 - val_meta_loss: 0.0000e+00 - val_snpe_pleaser2_loss: 0.0000e+00 - val_pose_loss: 0.0000e+00 - val_add_3_loss: 0.0000e+00\n",
      "Epoch 87/100\n",
      "200/200 [==============================] - 24s 119ms/step - loss: 0.1343 - path_loss: 0.0000e+00 - left_lane_loss: 0.0000e+00 - right_lane_loss: 0.0000e+00 - lead_loss: 0.0000e+00 - long_x_loss: 0.0000e+00 - long_v_loss: 0.1343 - long_a_loss: 0.0000e+00 - meta_loss: 0.0000e+00 - snpe_pleaser2_loss: 0.0000e+00 - pose_loss: 0.0000e+00 - add_3_loss: 0.0000e+00 - val_loss: 0.1084 - val_path_loss: 0.0000e+00 - val_left_lane_loss: 0.0000e+00 - val_right_lane_loss: 0.0000e+00 - val_lead_loss: 0.0000e+00 - val_long_x_loss: 0.0000e+00 - val_long_v_loss: 0.1084 - val_long_a_loss: 0.0000e+00 - val_meta_loss: 0.0000e+00 - val_snpe_pleaser2_loss: 0.0000e+00 - val_pose_loss: 0.0000e+00 - val_add_3_loss: 0.0000e+00\n",
      "Epoch 88/100\n"
     ]
    },
    {
     "name": "stdout",
     "output_type": "stream",
     "text": [
      "200/200 [==============================] - 17s 84ms/step - loss: 0.1480 - path_loss: 0.0000e+00 - left_lane_loss: 0.0000e+00 - right_lane_loss: 0.0000e+00 - lead_loss: 0.0000e+00 - long_x_loss: 0.0000e+00 - long_v_loss: 0.1480 - long_a_loss: 0.0000e+00 - meta_loss: 0.0000e+00 - snpe_pleaser2_loss: 0.0000e+00 - pose_loss: 0.0000e+00 - add_3_loss: 0.0000e+00 - val_loss: 0.0340 - val_path_loss: 0.0000e+00 - val_left_lane_loss: 0.0000e+00 - val_right_lane_loss: 0.0000e+00 - val_lead_loss: 0.0000e+00 - val_long_x_loss: 0.0000e+00 - val_long_v_loss: 0.0340 - val_long_a_loss: 0.0000e+00 - val_meta_loss: 0.0000e+00 - val_snpe_pleaser2_loss: 0.0000e+00 - val_pose_loss: 0.0000e+00 - val_add_3_loss: 0.0000e+00\n",
      "Epoch 89/100\n",
      "200/200 [==============================] - 16s 81ms/step - loss: 0.1423 - path_loss: 0.0000e+00 - left_lane_loss: 0.0000e+00 - right_lane_loss: 0.0000e+00 - lead_loss: 0.0000e+00 - long_x_loss: 0.0000e+00 - long_v_loss: 0.1423 - long_a_loss: 0.0000e+00 - meta_loss: 0.0000e+00 - snpe_pleaser2_loss: 0.0000e+00 - pose_loss: 0.0000e+00 - add_3_loss: 0.0000e+00 - val_loss: 0.2074 - val_path_loss: 0.0000e+00 - val_left_lane_loss: 0.0000e+00 - val_right_lane_loss: 0.0000e+00 - val_lead_loss: 0.0000e+00 - val_long_x_loss: 0.0000e+00 - val_long_v_loss: 0.2074 - val_long_a_loss: 0.0000e+00 - val_meta_loss: 0.0000e+00 - val_snpe_pleaser2_loss: 0.0000e+00 - val_pose_loss: 0.0000e+00 - val_add_3_loss: 0.0000e+00\n",
      "Epoch 90/100\n",
      "200/200 [==============================] - 16s 81ms/step - loss: 0.1357 - path_loss: 0.0000e+00 - left_lane_loss: 0.0000e+00 - right_lane_loss: 0.0000e+00 - lead_loss: 0.0000e+00 - long_x_loss: 0.0000e+00 - long_v_loss: 0.1357 - long_a_loss: 0.0000e+00 - meta_loss: 0.0000e+00 - snpe_pleaser2_loss: 0.0000e+00 - pose_loss: 0.0000e+00 - add_3_loss: 0.0000e+00 - val_loss: 0.0931 - val_path_loss: 0.0000e+00 - val_left_lane_loss: 0.0000e+00 - val_right_lane_loss: 0.0000e+00 - val_lead_loss: 0.0000e+00 - val_long_x_loss: 0.0000e+00 - val_long_v_loss: 0.0931 - val_long_a_loss: 0.0000e+00 - val_meta_loss: 0.0000e+00 - val_snpe_pleaser2_loss: 0.0000e+00 - val_pose_loss: 0.0000e+00 - val_add_3_loss: 0.0000e+00\n",
      "Epoch 91/100\n",
      "200/200 [==============================] - 16s 82ms/step - loss: 0.1228 - path_loss: 0.0000e+00 - left_lane_loss: 0.0000e+00 - right_lane_loss: 0.0000e+00 - lead_loss: 0.0000e+00 - long_x_loss: 0.0000e+00 - long_v_loss: 0.1228 - long_a_loss: 0.0000e+00 - meta_loss: 0.0000e+00 - snpe_pleaser2_loss: 0.0000e+00 - pose_loss: 0.0000e+00 - add_3_loss: 0.0000e+00 - val_loss: 0.1955 - val_path_loss: 0.0000e+00 - val_left_lane_loss: 0.0000e+00 - val_right_lane_loss: 0.0000e+00 - val_lead_loss: 0.0000e+00 - val_long_x_loss: 0.0000e+00 - val_long_v_loss: 0.1955 - val_long_a_loss: 0.0000e+00 - val_meta_loss: 0.0000e+00 - val_snpe_pleaser2_loss: 0.0000e+00 - val_pose_loss: 0.0000e+00 - val_add_3_loss: 0.0000e+00\n",
      "Epoch 92/100\n",
      "200/200 [==============================] - 16s 82ms/step - loss: 0.1290 - path_loss: 0.0000e+00 - left_lane_loss: 0.0000e+00 - right_lane_loss: 0.0000e+00 - lead_loss: 0.0000e+00 - long_x_loss: 0.0000e+00 - long_v_loss: 0.1290 - long_a_loss: 0.0000e+00 - meta_loss: 0.0000e+00 - snpe_pleaser2_loss: 0.0000e+00 - pose_loss: 0.0000e+00 - add_3_loss: 0.0000e+00 - val_loss: 0.0413 - val_path_loss: 0.0000e+00 - val_left_lane_loss: 0.0000e+00 - val_right_lane_loss: 0.0000e+00 - val_lead_loss: 0.0000e+00 - val_long_x_loss: 0.0000e+00 - val_long_v_loss: 0.0413 - val_long_a_loss: 0.0000e+00 - val_meta_loss: 0.0000e+00 - val_snpe_pleaser2_loss: 0.0000e+00 - val_pose_loss: 0.0000e+00 - val_add_3_loss: 0.0000e+00\n",
      "Epoch 93/100\n",
      "200/200 [==============================] - 16s 82ms/step - loss: 0.1376 - path_loss: 0.0000e+00 - left_lane_loss: 0.0000e+00 - right_lane_loss: 0.0000e+00 - lead_loss: 0.0000e+00 - long_x_loss: 0.0000e+00 - long_v_loss: 0.1376 - long_a_loss: 0.0000e+00 - meta_loss: 0.0000e+00 - snpe_pleaser2_loss: 0.0000e+00 - pose_loss: 0.0000e+00 - add_3_loss: 0.0000e+00 - val_loss: 0.1216 - val_path_loss: 0.0000e+00 - val_left_lane_loss: 0.0000e+00 - val_right_lane_loss: 0.0000e+00 - val_lead_loss: 0.0000e+00 - val_long_x_loss: 0.0000e+00 - val_long_v_loss: 0.1216 - val_long_a_loss: 0.0000e+00 - val_meta_loss: 0.0000e+00 - val_snpe_pleaser2_loss: 0.0000e+00 - val_pose_loss: 0.0000e+00 - val_add_3_loss: 0.0000e+00\n",
      "Epoch 94/100\n",
      "200/200 [==============================] - 16s 81ms/step - loss: 0.1249 - path_loss: 0.0000e+00 - left_lane_loss: 0.0000e+00 - right_lane_loss: 0.0000e+00 - lead_loss: 0.0000e+00 - long_x_loss: 0.0000e+00 - long_v_loss: 0.1249 - long_a_loss: 0.0000e+00 - meta_loss: 0.0000e+00 - snpe_pleaser2_loss: 0.0000e+00 - pose_loss: 0.0000e+00 - add_3_loss: 0.0000e+00 - val_loss: 0.0746 - val_path_loss: 0.0000e+00 - val_left_lane_loss: 0.0000e+00 - val_right_lane_loss: 0.0000e+00 - val_lead_loss: 0.0000e+00 - val_long_x_loss: 0.0000e+00 - val_long_v_loss: 0.0746 - val_long_a_loss: 0.0000e+00 - val_meta_loss: 0.0000e+00 - val_snpe_pleaser2_loss: 0.0000e+00 - val_pose_loss: 0.0000e+00 - val_add_3_loss: 0.0000e+00\n",
      "Epoch 95/100\n",
      "200/200 [==============================] - 17s 84ms/step - loss: 0.1265 - path_loss: 0.0000e+00 - left_lane_loss: 0.0000e+00 - right_lane_loss: 0.0000e+00 - lead_loss: 0.0000e+00 - long_x_loss: 0.0000e+00 - long_v_loss: 0.1265 - long_a_loss: 0.0000e+00 - meta_loss: 0.0000e+00 - snpe_pleaser2_loss: 0.0000e+00 - pose_loss: 0.0000e+00 - add_3_loss: 0.0000e+00 - val_loss: 0.1128 - val_path_loss: 0.0000e+00 - val_left_lane_loss: 0.0000e+00 - val_right_lane_loss: 0.0000e+00 - val_lead_loss: 0.0000e+00 - val_long_x_loss: 0.0000e+00 - val_long_v_loss: 0.1128 - val_long_a_loss: 0.0000e+00 - val_meta_loss: 0.0000e+00 - val_snpe_pleaser2_loss: 0.0000e+00 - val_pose_loss: 0.0000e+00 - val_add_3_loss: 0.0000e+00\n",
      "Epoch 96/100\n",
      "200/200 [==============================] - 16s 82ms/step - loss: 0.1564 - path_loss: 0.0000e+00 - left_lane_loss: 0.0000e+00 - right_lane_loss: 0.0000e+00 - lead_loss: 0.0000e+00 - long_x_loss: 0.0000e+00 - long_v_loss: 0.1564 - long_a_loss: 0.0000e+00 - meta_loss: 0.0000e+00 - snpe_pleaser2_loss: 0.0000e+00 - pose_loss: 0.0000e+00 - add_3_loss: 0.0000e+00 - val_loss: 0.1859 - val_path_loss: 0.0000e+00 - val_left_lane_loss: 0.0000e+00 - val_right_lane_loss: 0.0000e+00 - val_lead_loss: 0.0000e+00 - val_long_x_loss: 0.0000e+00 - val_long_v_loss: 0.1859 - val_long_a_loss: 0.0000e+00 - val_meta_loss: 0.0000e+00 - val_snpe_pleaser2_loss: 0.0000e+00 - val_pose_loss: 0.0000e+00 - val_add_3_loss: 0.0000e+00\n",
      "Epoch 97/100\n",
      "200/200 [==============================] - 16s 82ms/step - loss: 0.1397 - path_loss: 0.0000e+00 - left_lane_loss: 0.0000e+00 - right_lane_loss: 0.0000e+00 - lead_loss: 0.0000e+00 - long_x_loss: 0.0000e+00 - long_v_loss: 0.1397 - long_a_loss: 0.0000e+00 - meta_loss: 0.0000e+00 - snpe_pleaser2_loss: 0.0000e+00 - pose_loss: 0.0000e+00 - add_3_loss: 0.0000e+00 - val_loss: 0.1283 - val_path_loss: 0.0000e+00 - val_left_lane_loss: 0.0000e+00 - val_right_lane_loss: 0.0000e+00 - val_lead_loss: 0.0000e+00 - val_long_x_loss: 0.0000e+00 - val_long_v_loss: 0.1283 - val_long_a_loss: 0.0000e+00 - val_meta_loss: 0.0000e+00 - val_snpe_pleaser2_loss: 0.0000e+00 - val_pose_loss: 0.0000e+00 - val_add_3_loss: 0.0000e+00\n",
      "Epoch 98/100\n",
      "200/200 [==============================] - 16s 80ms/step - loss: 0.1769 - path_loss: 0.0000e+00 - left_lane_loss: 0.0000e+00 - right_lane_loss: 0.0000e+00 - lead_loss: 0.0000e+00 - long_x_loss: 0.0000e+00 - long_v_loss: 0.1769 - long_a_loss: 0.0000e+00 - meta_loss: 0.0000e+00 - snpe_pleaser2_loss: 0.0000e+00 - pose_loss: 0.0000e+00 - add_3_loss: 0.0000e+00 - val_loss: 0.2441 - val_path_loss: 0.0000e+00 - val_left_lane_loss: 0.0000e+00 - val_right_lane_loss: 0.0000e+00 - val_lead_loss: 0.0000e+00 - val_long_x_loss: 0.0000e+00 - val_long_v_loss: 0.2441 - val_long_a_loss: 0.0000e+00 - val_meta_loss: 0.0000e+00 - val_snpe_pleaser2_loss: 0.0000e+00 - val_pose_loss: 0.0000e+00 - val_add_3_loss: 0.0000e+00\n",
      "Epoch 99/100\n"
     ]
    },
    {
     "name": "stdout",
     "output_type": "stream",
     "text": [
      "200/200 [==============================] - 17s 85ms/step - loss: 0.1497 - path_loss: 0.0000e+00 - left_lane_loss: 0.0000e+00 - right_lane_loss: 0.0000e+00 - lead_loss: 0.0000e+00 - long_x_loss: 0.0000e+00 - long_v_loss: 0.1497 - long_a_loss: 0.0000e+00 - meta_loss: 0.0000e+00 - snpe_pleaser2_loss: 0.0000e+00 - pose_loss: 0.0000e+00 - add_3_loss: 0.0000e+00 - val_loss: 0.0676 - val_path_loss: 0.0000e+00 - val_left_lane_loss: 0.0000e+00 - val_right_lane_loss: 0.0000e+00 - val_lead_loss: 0.0000e+00 - val_long_x_loss: 0.0000e+00 - val_long_v_loss: 0.0676 - val_long_a_loss: 0.0000e+00 - val_meta_loss: 0.0000e+00 - val_snpe_pleaser2_loss: 0.0000e+00 - val_pose_loss: 0.0000e+00 - val_add_3_loss: 0.0000e+00\n",
      "Epoch 100/100\n",
      "200/200 [==============================] - 16s 81ms/step - loss: 0.1715 - path_loss: 0.0000e+00 - left_lane_loss: 0.0000e+00 - right_lane_loss: 0.0000e+00 - lead_loss: 0.0000e+00 - long_x_loss: 0.0000e+00 - long_v_loss: 0.1715 - long_a_loss: 0.0000e+00 - meta_loss: 0.0000e+00 - snpe_pleaser2_loss: 0.0000e+00 - pose_loss: 0.0000e+00 - add_3_loss: 0.0000e+00 - val_loss: 0.3466 - val_path_loss: 0.0000e+00 - val_left_lane_loss: 0.0000e+00 - val_right_lane_loss: 0.0000e+00 - val_lead_loss: 0.0000e+00 - val_long_x_loss: 0.0000e+00 - val_long_v_loss: 0.3466 - val_long_a_loss: 0.0000e+00 - val_meta_loss: 0.0000e+00 - val_snpe_pleaser2_loss: 0.0000e+00 - val_pose_loss: 0.0000e+00 - val_add_3_loss: 0.0000e+00\n"
     ]
    }
   ],
   "source": [
    "log_dir = 'logs/unbiased/'\n",
    "logging = TensorBoard(log_dir=log_dir)\n",
    "checkpoint = ModelCheckpoint(log_dir + 'ep{epoch:03d}-loss{loss:.3f}-val_loss{val_loss:.3f}.h5',\n",
    "    monitor='val_loss', save_weights_only=True, save_best_only=True, period=3)\n",
    "\n",
    "epi_hist = model.fit(x_all,y_all, batch_size=4, epochs=100, validation_split=0.2,callbacks=[logging, checkpoint])\n",
    "np.save('epi_loss_his',epi_hist.history['loss'])\n",
    "np.save('epi_val_loss_his',epi_hist.history['val_loss'])"
   ]
  }
 ],
 "metadata": {
  "kernelspec": {
   "display_name": "openpilot",
   "language": "python",
   "name": "openpilot"
  },
  "language_info": {
   "codemirror_mode": {
    "name": "ipython",
    "version": 3
   },
   "file_extension": ".py",
   "mimetype": "text/x-python",
   "name": "python",
   "nbconvert_exporter": "python",
   "pygments_lexer": "ipython3",
   "version": "3.8.5"
  }
 },
 "nbformat": 4,
 "nbformat_minor": 4
}
